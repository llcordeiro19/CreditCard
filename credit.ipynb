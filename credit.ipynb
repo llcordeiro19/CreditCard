{
 "cells": [
  {
   "cell_type": "markdown",
   "metadata": {},
   "source": [
    "DADOS EM https://www.kaggle.com/datasets/priyamchoksi/credit-card-transactions-dataset"
   ]
  },
  {
   "cell_type": "markdown",
   "metadata": {},
   "source": []
  },
  {
   "cell_type": "code",
   "execution_count": 1,
   "metadata": {},
   "outputs": [],
   "source": [
    "import pandas as pd\n",
    "import numpy as np\n",
    "import matplotlib.pyplot as plt\n",
    "%matplotlib inline\n",
    "import seaborn as sea\n",
    "import plotly.express as px\n",
    "from datetime import datetime, date\n",
    "import warnings\n",
    "warnings.simplefilter(action='ignore', category=FutureWarning)"
   ]
  },
  {
   "cell_type": "code",
   "execution_count": 2,
   "metadata": {},
   "outputs": [
    {
     "data": {
      "text/html": [
       "<div>\n",
       "<style scoped>\n",
       "    .dataframe tbody tr th:only-of-type {\n",
       "        vertical-align: middle;\n",
       "    }\n",
       "\n",
       "    .dataframe tbody tr th {\n",
       "        vertical-align: top;\n",
       "    }\n",
       "\n",
       "    .dataframe thead th {\n",
       "        text-align: right;\n",
       "    }\n",
       "</style>\n",
       "<table border=\"1\" class=\"dataframe\">\n",
       "  <thead>\n",
       "    <tr style=\"text-align: right;\">\n",
       "      <th></th>\n",
       "      <th>Unnamed: 0</th>\n",
       "      <th>trans_date_trans_time</th>\n",
       "      <th>cc_num</th>\n",
       "      <th>merchant</th>\n",
       "      <th>category</th>\n",
       "      <th>amt</th>\n",
       "      <th>first</th>\n",
       "      <th>last</th>\n",
       "      <th>gender</th>\n",
       "      <th>street</th>\n",
       "      <th>...</th>\n",
       "      <th>long</th>\n",
       "      <th>city_pop</th>\n",
       "      <th>job</th>\n",
       "      <th>dob</th>\n",
       "      <th>trans_num</th>\n",
       "      <th>unix_time</th>\n",
       "      <th>merch_lat</th>\n",
       "      <th>merch_long</th>\n",
       "      <th>is_fraud</th>\n",
       "      <th>merch_zipcode</th>\n",
       "    </tr>\n",
       "  </thead>\n",
       "  <tbody>\n",
       "    <tr>\n",
       "      <th>0</th>\n",
       "      <td>0</td>\n",
       "      <td>2019-01-01 00:00:18</td>\n",
       "      <td>2703186189652095</td>\n",
       "      <td>fraud_Rippin, Kub and Mann</td>\n",
       "      <td>misc_net</td>\n",
       "      <td>4.97</td>\n",
       "      <td>Jennifer</td>\n",
       "      <td>Banks</td>\n",
       "      <td>F</td>\n",
       "      <td>561 Perry Cove</td>\n",
       "      <td>...</td>\n",
       "      <td>-81.1781</td>\n",
       "      <td>3495</td>\n",
       "      <td>Psychologist, counselling</td>\n",
       "      <td>1988-03-09</td>\n",
       "      <td>0b242abb623afc578575680df30655b9</td>\n",
       "      <td>1325376018</td>\n",
       "      <td>36.011293</td>\n",
       "      <td>-82.048315</td>\n",
       "      <td>0</td>\n",
       "      <td>28705.0</td>\n",
       "    </tr>\n",
       "    <tr>\n",
       "      <th>1</th>\n",
       "      <td>1</td>\n",
       "      <td>2019-01-01 00:00:44</td>\n",
       "      <td>630423337322</td>\n",
       "      <td>fraud_Heller, Gutmann and Zieme</td>\n",
       "      <td>grocery_pos</td>\n",
       "      <td>107.23</td>\n",
       "      <td>Stephanie</td>\n",
       "      <td>Gill</td>\n",
       "      <td>F</td>\n",
       "      <td>43039 Riley Greens Suite 393</td>\n",
       "      <td>...</td>\n",
       "      <td>-118.2105</td>\n",
       "      <td>149</td>\n",
       "      <td>Special educational needs teacher</td>\n",
       "      <td>1978-06-21</td>\n",
       "      <td>1f76529f8574734946361c461b024d99</td>\n",
       "      <td>1325376044</td>\n",
       "      <td>49.159047</td>\n",
       "      <td>-118.186462</td>\n",
       "      <td>0</td>\n",
       "      <td>NaN</td>\n",
       "    </tr>\n",
       "    <tr>\n",
       "      <th>2</th>\n",
       "      <td>2</td>\n",
       "      <td>2019-01-01 00:00:51</td>\n",
       "      <td>38859492057661</td>\n",
       "      <td>fraud_Lind-Buckridge</td>\n",
       "      <td>entertainment</td>\n",
       "      <td>220.11</td>\n",
       "      <td>Edward</td>\n",
       "      <td>Sanchez</td>\n",
       "      <td>M</td>\n",
       "      <td>594 White Dale Suite 530</td>\n",
       "      <td>...</td>\n",
       "      <td>-112.2620</td>\n",
       "      <td>4154</td>\n",
       "      <td>Nature conservation officer</td>\n",
       "      <td>1962-01-19</td>\n",
       "      <td>a1a22d70485983eac12b5b88dad1cf95</td>\n",
       "      <td>1325376051</td>\n",
       "      <td>43.150704</td>\n",
       "      <td>-112.154481</td>\n",
       "      <td>0</td>\n",
       "      <td>83236.0</td>\n",
       "    </tr>\n",
       "    <tr>\n",
       "      <th>3</th>\n",
       "      <td>3</td>\n",
       "      <td>2019-01-01 00:01:16</td>\n",
       "      <td>3534093764340240</td>\n",
       "      <td>fraud_Kutch, Hermiston and Farrell</td>\n",
       "      <td>gas_transport</td>\n",
       "      <td>45.00</td>\n",
       "      <td>Jeremy</td>\n",
       "      <td>White</td>\n",
       "      <td>M</td>\n",
       "      <td>9443 Cynthia Court Apt. 038</td>\n",
       "      <td>...</td>\n",
       "      <td>-112.1138</td>\n",
       "      <td>1939</td>\n",
       "      <td>Patent attorney</td>\n",
       "      <td>1967-01-12</td>\n",
       "      <td>6b849c168bdad6f867558c3793159a81</td>\n",
       "      <td>1325376076</td>\n",
       "      <td>47.034331</td>\n",
       "      <td>-112.561071</td>\n",
       "      <td>0</td>\n",
       "      <td>NaN</td>\n",
       "    </tr>\n",
       "    <tr>\n",
       "      <th>4</th>\n",
       "      <td>4</td>\n",
       "      <td>2019-01-01 00:03:06</td>\n",
       "      <td>375534208663984</td>\n",
       "      <td>fraud_Keeling-Crist</td>\n",
       "      <td>misc_pos</td>\n",
       "      <td>41.96</td>\n",
       "      <td>Tyler</td>\n",
       "      <td>Garcia</td>\n",
       "      <td>M</td>\n",
       "      <td>408 Bradley Rest</td>\n",
       "      <td>...</td>\n",
       "      <td>-79.4629</td>\n",
       "      <td>99</td>\n",
       "      <td>Dance movement psychotherapist</td>\n",
       "      <td>1986-03-28</td>\n",
       "      <td>a41d7549acf90789359a9aa5346dcb46</td>\n",
       "      <td>1325376186</td>\n",
       "      <td>38.674999</td>\n",
       "      <td>-78.632459</td>\n",
       "      <td>0</td>\n",
       "      <td>22844.0</td>\n",
       "    </tr>\n",
       "  </tbody>\n",
       "</table>\n",
       "<p>5 rows × 24 columns</p>\n",
       "</div>"
      ],
      "text/plain": [
       "   Unnamed: 0 trans_date_trans_time            cc_num  \\\n",
       "0           0   2019-01-01 00:00:18  2703186189652095   \n",
       "1           1   2019-01-01 00:00:44      630423337322   \n",
       "2           2   2019-01-01 00:00:51    38859492057661   \n",
       "3           3   2019-01-01 00:01:16  3534093764340240   \n",
       "4           4   2019-01-01 00:03:06   375534208663984   \n",
       "\n",
       "                             merchant       category     amt      first  \\\n",
       "0          fraud_Rippin, Kub and Mann       misc_net    4.97   Jennifer   \n",
       "1     fraud_Heller, Gutmann and Zieme    grocery_pos  107.23  Stephanie   \n",
       "2                fraud_Lind-Buckridge  entertainment  220.11     Edward   \n",
       "3  fraud_Kutch, Hermiston and Farrell  gas_transport   45.00     Jeremy   \n",
       "4                 fraud_Keeling-Crist       misc_pos   41.96      Tyler   \n",
       "\n",
       "      last gender                        street  ...      long city_pop  \\\n",
       "0    Banks      F                561 Perry Cove  ...  -81.1781     3495   \n",
       "1     Gill      F  43039 Riley Greens Suite 393  ... -118.2105      149   \n",
       "2  Sanchez      M      594 White Dale Suite 530  ... -112.2620     4154   \n",
       "3    White      M   9443 Cynthia Court Apt. 038  ... -112.1138     1939   \n",
       "4   Garcia      M              408 Bradley Rest  ...  -79.4629       99   \n",
       "\n",
       "                                 job         dob  \\\n",
       "0          Psychologist, counselling  1988-03-09   \n",
       "1  Special educational needs teacher  1978-06-21   \n",
       "2        Nature conservation officer  1962-01-19   \n",
       "3                    Patent attorney  1967-01-12   \n",
       "4     Dance movement psychotherapist  1986-03-28   \n",
       "\n",
       "                          trans_num   unix_time  merch_lat  merch_long  \\\n",
       "0  0b242abb623afc578575680df30655b9  1325376018  36.011293  -82.048315   \n",
       "1  1f76529f8574734946361c461b024d99  1325376044  49.159047 -118.186462   \n",
       "2  a1a22d70485983eac12b5b88dad1cf95  1325376051  43.150704 -112.154481   \n",
       "3  6b849c168bdad6f867558c3793159a81  1325376076  47.034331 -112.561071   \n",
       "4  a41d7549acf90789359a9aa5346dcb46  1325376186  38.674999  -78.632459   \n",
       "\n",
       "  is_fraud  merch_zipcode  \n",
       "0        0        28705.0  \n",
       "1        0            NaN  \n",
       "2        0        83236.0  \n",
       "3        0            NaN  \n",
       "4        0        22844.0  \n",
       "\n",
       "[5 rows x 24 columns]"
      ]
     },
     "execution_count": 2,
     "metadata": {},
     "output_type": "execute_result"
    }
   ],
   "source": [
    "cd= pd.read_csv(r'C:\\Users\\llcor\\OneDrive\\Área de Trabalho\\DadosKaggle\\credit_card_transactions.csv')\n",
    "cd.head()"
   ]
  },
  {
   "cell_type": "markdown",
   "metadata": {},
   "source": [
    "CONHECENDO O DATASET"
   ]
  },
  {
   "cell_type": "code",
   "execution_count": 3,
   "metadata": {},
   "outputs": [
    {
     "data": {
      "text/plain": [
       "(1296675, 24)"
      ]
     },
     "execution_count": 3,
     "metadata": {},
     "output_type": "execute_result"
    }
   ],
   "source": [
    "cd.shape"
   ]
  },
  {
   "cell_type": "markdown",
   "metadata": {},
   "source": [
    "- Verifica-se que o dataset tem 1.296.675 linhas\n",
    "- São 24 colunas, com variáves que contêm informações sobre as transações, dados dos titulares do cartão, do comério, etc. "
   ]
  },
  {
   "cell_type": "code",
   "execution_count": 4,
   "metadata": {},
   "outputs": [
    {
     "name": "stdout",
     "output_type": "stream",
     "text": [
      "<class 'pandas.core.frame.DataFrame'>\n",
      "RangeIndex: 1296675 entries, 0 to 1296674\n",
      "Data columns (total 24 columns):\n",
      " #   Column                 Non-Null Count    Dtype  \n",
      "---  ------                 --------------    -----  \n",
      " 0   Unnamed: 0             1296675 non-null  int64  \n",
      " 1   trans_date_trans_time  1296675 non-null  object \n",
      " 2   cc_num                 1296675 non-null  int64  \n",
      " 3   merchant               1296675 non-null  object \n",
      " 4   category               1296675 non-null  object \n",
      " 5   amt                    1296675 non-null  float64\n",
      " 6   first                  1296675 non-null  object \n",
      " 7   last                   1296675 non-null  object \n",
      " 8   gender                 1296675 non-null  object \n",
      " 9   street                 1296675 non-null  object \n",
      " 10  city                   1296675 non-null  object \n",
      " 11  state                  1296675 non-null  object \n",
      " 12  zip                    1296675 non-null  int64  \n",
      " 13  lat                    1296675 non-null  float64\n",
      " 14  long                   1296675 non-null  float64\n",
      " 15  city_pop               1296675 non-null  int64  \n",
      " 16  job                    1296675 non-null  object \n",
      " 17  dob                    1296675 non-null  object \n",
      " 18  trans_num              1296675 non-null  object \n",
      " 19  unix_time              1296675 non-null  int64  \n",
      " 20  merch_lat              1296675 non-null  float64\n",
      " 21  merch_long             1296675 non-null  float64\n",
      " 22  is_fraud               1296675 non-null  int64  \n",
      " 23  merch_zipcode          1100702 non-null  float64\n",
      "dtypes: float64(6), int64(6), object(12)\n",
      "memory usage: 237.4+ MB\n"
     ]
    }
   ],
   "source": [
    "cd.info()"
   ]
  },
  {
   "cell_type": "markdown",
   "metadata": {},
   "source": [
    "#### Tratamento dos dados"
   ]
  },
  {
   "cell_type": "markdown",
   "metadata": {},
   "source": [
    "- para facilitar a compreensão e o tratamento dos dados, vou iniciar por traduzir as colunas"
   ]
  },
  {
   "cell_type": "code",
   "execution_count": 5,
   "metadata": {},
   "outputs": [
    {
     "data": {
      "text/plain": [
       "Index(['Unnamed: 0', 'trans_date_trans_time', 'cc_num', 'merchant', 'category',\n",
       "       'amt', 'first', 'last', 'gender', 'street', 'city', 'state', 'zip',\n",
       "       'lat', 'long', 'city_pop', 'job', 'dob', 'trans_num', 'unix_time',\n",
       "       'merch_lat', 'merch_long', 'is_fraud', 'merch_zipcode'],\n",
       "      dtype='object')"
      ]
     },
     "execution_count": 5,
     "metadata": {},
     "output_type": "execute_result"
    }
   ],
   "source": [
    "cd.columns"
   ]
  },
  {
   "cell_type": "code",
   "execution_count": 6,
   "metadata": {},
   "outputs": [],
   "source": [
    "cd =cd.rename(columns={'Unnamed: 0' : 'id', \n",
    "                        'trans_date_trans_time' : 'data_hr_trans', \n",
    "                        'cc_num':'num_cartao', \n",
    "                        'merchant':'comercio', \n",
    "                        'category':'categoria',\n",
    "                        'amt': 'valor_trans', \n",
    "                        'first':'primeiro_nome', \n",
    "                        'last':'ultimo_nome', \n",
    "                        'gender':'genero', \n",
    "                        'street':'endereco', \n",
    "                        'city':'cidade', \n",
    "                        'state':'estado', \n",
    "                        'zip':'cep',\n",
    "                        'lat':'lat', \n",
    "                        'long':'long', \n",
    "                        'city_pop':'populacao_cidade', \n",
    "                        'job':'ocupacao_titular', \n",
    "                        'dob' :'data_nasc', \n",
    "                        'trans_num':'num_trans', \n",
    "                        'unix_time':'id_data_hr_trans',\n",
    "                        'merch_lat':'lat_comercio', \n",
    "                        'merch_long':'long_comercio', \n",
    "                        'is_fraud':'indicador_fraude', \n",
    "                        'merch_zipcode':'cep_comercio'})\n"
   ]
  },
  {
   "cell_type": "code",
   "execution_count": 7,
   "metadata": {},
   "outputs": [
    {
     "data": {
      "text/html": [
       "<div>\n",
       "<style scoped>\n",
       "    .dataframe tbody tr th:only-of-type {\n",
       "        vertical-align: middle;\n",
       "    }\n",
       "\n",
       "    .dataframe tbody tr th {\n",
       "        vertical-align: top;\n",
       "    }\n",
       "\n",
       "    .dataframe thead th {\n",
       "        text-align: right;\n",
       "    }\n",
       "</style>\n",
       "<table border=\"1\" class=\"dataframe\">\n",
       "  <thead>\n",
       "    <tr style=\"text-align: right;\">\n",
       "      <th></th>\n",
       "      <th>id</th>\n",
       "      <th>data_hr_trans</th>\n",
       "      <th>num_cartao</th>\n",
       "      <th>comercio</th>\n",
       "      <th>categoria</th>\n",
       "      <th>valor_trans</th>\n",
       "      <th>primeiro_nome</th>\n",
       "      <th>ultimo_nome</th>\n",
       "      <th>genero</th>\n",
       "      <th>endereco</th>\n",
       "      <th>...</th>\n",
       "      <th>long</th>\n",
       "      <th>populacao_cidade</th>\n",
       "      <th>ocupacao_titular</th>\n",
       "      <th>data_nasc</th>\n",
       "      <th>num_trans</th>\n",
       "      <th>id_data_hr_trans</th>\n",
       "      <th>lat_comercio</th>\n",
       "      <th>long_comercio</th>\n",
       "      <th>indicador_fraude</th>\n",
       "      <th>cep_comercio</th>\n",
       "    </tr>\n",
       "  </thead>\n",
       "  <tbody>\n",
       "    <tr>\n",
       "      <th>0</th>\n",
       "      <td>0</td>\n",
       "      <td>2019-01-01 00:00:18</td>\n",
       "      <td>2703186189652095</td>\n",
       "      <td>fraud_Rippin, Kub and Mann</td>\n",
       "      <td>misc_net</td>\n",
       "      <td>4.97</td>\n",
       "      <td>Jennifer</td>\n",
       "      <td>Banks</td>\n",
       "      <td>F</td>\n",
       "      <td>561 Perry Cove</td>\n",
       "      <td>...</td>\n",
       "      <td>-81.1781</td>\n",
       "      <td>3495</td>\n",
       "      <td>Psychologist, counselling</td>\n",
       "      <td>1988-03-09</td>\n",
       "      <td>0b242abb623afc578575680df30655b9</td>\n",
       "      <td>1325376018</td>\n",
       "      <td>36.011293</td>\n",
       "      <td>-82.048315</td>\n",
       "      <td>0</td>\n",
       "      <td>28705.0</td>\n",
       "    </tr>\n",
       "    <tr>\n",
       "      <th>1</th>\n",
       "      <td>1</td>\n",
       "      <td>2019-01-01 00:00:44</td>\n",
       "      <td>630423337322</td>\n",
       "      <td>fraud_Heller, Gutmann and Zieme</td>\n",
       "      <td>grocery_pos</td>\n",
       "      <td>107.23</td>\n",
       "      <td>Stephanie</td>\n",
       "      <td>Gill</td>\n",
       "      <td>F</td>\n",
       "      <td>43039 Riley Greens Suite 393</td>\n",
       "      <td>...</td>\n",
       "      <td>-118.2105</td>\n",
       "      <td>149</td>\n",
       "      <td>Special educational needs teacher</td>\n",
       "      <td>1978-06-21</td>\n",
       "      <td>1f76529f8574734946361c461b024d99</td>\n",
       "      <td>1325376044</td>\n",
       "      <td>49.159047</td>\n",
       "      <td>-118.186462</td>\n",
       "      <td>0</td>\n",
       "      <td>NaN</td>\n",
       "    </tr>\n",
       "    <tr>\n",
       "      <th>2</th>\n",
       "      <td>2</td>\n",
       "      <td>2019-01-01 00:00:51</td>\n",
       "      <td>38859492057661</td>\n",
       "      <td>fraud_Lind-Buckridge</td>\n",
       "      <td>entertainment</td>\n",
       "      <td>220.11</td>\n",
       "      <td>Edward</td>\n",
       "      <td>Sanchez</td>\n",
       "      <td>M</td>\n",
       "      <td>594 White Dale Suite 530</td>\n",
       "      <td>...</td>\n",
       "      <td>-112.2620</td>\n",
       "      <td>4154</td>\n",
       "      <td>Nature conservation officer</td>\n",
       "      <td>1962-01-19</td>\n",
       "      <td>a1a22d70485983eac12b5b88dad1cf95</td>\n",
       "      <td>1325376051</td>\n",
       "      <td>43.150704</td>\n",
       "      <td>-112.154481</td>\n",
       "      <td>0</td>\n",
       "      <td>83236.0</td>\n",
       "    </tr>\n",
       "    <tr>\n",
       "      <th>3</th>\n",
       "      <td>3</td>\n",
       "      <td>2019-01-01 00:01:16</td>\n",
       "      <td>3534093764340240</td>\n",
       "      <td>fraud_Kutch, Hermiston and Farrell</td>\n",
       "      <td>gas_transport</td>\n",
       "      <td>45.00</td>\n",
       "      <td>Jeremy</td>\n",
       "      <td>White</td>\n",
       "      <td>M</td>\n",
       "      <td>9443 Cynthia Court Apt. 038</td>\n",
       "      <td>...</td>\n",
       "      <td>-112.1138</td>\n",
       "      <td>1939</td>\n",
       "      <td>Patent attorney</td>\n",
       "      <td>1967-01-12</td>\n",
       "      <td>6b849c168bdad6f867558c3793159a81</td>\n",
       "      <td>1325376076</td>\n",
       "      <td>47.034331</td>\n",
       "      <td>-112.561071</td>\n",
       "      <td>0</td>\n",
       "      <td>NaN</td>\n",
       "    </tr>\n",
       "    <tr>\n",
       "      <th>4</th>\n",
       "      <td>4</td>\n",
       "      <td>2019-01-01 00:03:06</td>\n",
       "      <td>375534208663984</td>\n",
       "      <td>fraud_Keeling-Crist</td>\n",
       "      <td>misc_pos</td>\n",
       "      <td>41.96</td>\n",
       "      <td>Tyler</td>\n",
       "      <td>Garcia</td>\n",
       "      <td>M</td>\n",
       "      <td>408 Bradley Rest</td>\n",
       "      <td>...</td>\n",
       "      <td>-79.4629</td>\n",
       "      <td>99</td>\n",
       "      <td>Dance movement psychotherapist</td>\n",
       "      <td>1986-03-28</td>\n",
       "      <td>a41d7549acf90789359a9aa5346dcb46</td>\n",
       "      <td>1325376186</td>\n",
       "      <td>38.674999</td>\n",
       "      <td>-78.632459</td>\n",
       "      <td>0</td>\n",
       "      <td>22844.0</td>\n",
       "    </tr>\n",
       "  </tbody>\n",
       "</table>\n",
       "<p>5 rows × 24 columns</p>\n",
       "</div>"
      ],
      "text/plain": [
       "   id        data_hr_trans        num_cartao  \\\n",
       "0   0  2019-01-01 00:00:18  2703186189652095   \n",
       "1   1  2019-01-01 00:00:44      630423337322   \n",
       "2   2  2019-01-01 00:00:51    38859492057661   \n",
       "3   3  2019-01-01 00:01:16  3534093764340240   \n",
       "4   4  2019-01-01 00:03:06   375534208663984   \n",
       "\n",
       "                             comercio      categoria  valor_trans  \\\n",
       "0          fraud_Rippin, Kub and Mann       misc_net         4.97   \n",
       "1     fraud_Heller, Gutmann and Zieme    grocery_pos       107.23   \n",
       "2                fraud_Lind-Buckridge  entertainment       220.11   \n",
       "3  fraud_Kutch, Hermiston and Farrell  gas_transport        45.00   \n",
       "4                 fraud_Keeling-Crist       misc_pos        41.96   \n",
       "\n",
       "  primeiro_nome ultimo_nome genero                      endereco  ...  \\\n",
       "0      Jennifer       Banks      F                561 Perry Cove  ...   \n",
       "1     Stephanie        Gill      F  43039 Riley Greens Suite 393  ...   \n",
       "2        Edward     Sanchez      M      594 White Dale Suite 530  ...   \n",
       "3        Jeremy       White      M   9443 Cynthia Court Apt. 038  ...   \n",
       "4         Tyler      Garcia      M              408 Bradley Rest  ...   \n",
       "\n",
       "       long populacao_cidade                   ocupacao_titular   data_nasc  \\\n",
       "0  -81.1781             3495          Psychologist, counselling  1988-03-09   \n",
       "1 -118.2105              149  Special educational needs teacher  1978-06-21   \n",
       "2 -112.2620             4154        Nature conservation officer  1962-01-19   \n",
       "3 -112.1138             1939                    Patent attorney  1967-01-12   \n",
       "4  -79.4629               99     Dance movement psychotherapist  1986-03-28   \n",
       "\n",
       "                          num_trans  id_data_hr_trans lat_comercio  \\\n",
       "0  0b242abb623afc578575680df30655b9        1325376018    36.011293   \n",
       "1  1f76529f8574734946361c461b024d99        1325376044    49.159047   \n",
       "2  a1a22d70485983eac12b5b88dad1cf95        1325376051    43.150704   \n",
       "3  6b849c168bdad6f867558c3793159a81        1325376076    47.034331   \n",
       "4  a41d7549acf90789359a9aa5346dcb46        1325376186    38.674999   \n",
       "\n",
       "  long_comercio indicador_fraude  cep_comercio  \n",
       "0    -82.048315                0       28705.0  \n",
       "1   -118.186462                0           NaN  \n",
       "2   -112.154481                0       83236.0  \n",
       "3   -112.561071                0           NaN  \n",
       "4    -78.632459                0       22844.0  \n",
       "\n",
       "[5 rows x 24 columns]"
      ]
     },
     "execution_count": 7,
     "metadata": {},
     "output_type": "execute_result"
    }
   ],
   "source": [
    "cd.head()"
   ]
  },
  {
   "cell_type": "code",
   "execution_count": 8,
   "metadata": {},
   "outputs": [
    {
     "name": "stdout",
     "output_type": "stream",
     "text": [
      "<class 'pandas.core.frame.DataFrame'>\n",
      "RangeIndex: 1296675 entries, 0 to 1296674\n",
      "Data columns (total 24 columns):\n",
      " #   Column            Non-Null Count    Dtype  \n",
      "---  ------            --------------    -----  \n",
      " 0   id                1296675 non-null  int64  \n",
      " 1   data_hr_trans     1296675 non-null  object \n",
      " 2   num_cartao        1296675 non-null  int64  \n",
      " 3   comercio          1296675 non-null  object \n",
      " 4   categoria         1296675 non-null  object \n",
      " 5   valor_trans       1296675 non-null  float64\n",
      " 6   primeiro_nome     1296675 non-null  object \n",
      " 7   ultimo_nome       1296675 non-null  object \n",
      " 8   genero            1296675 non-null  object \n",
      " 9   endereco          1296675 non-null  object \n",
      " 10  cidade            1296675 non-null  object \n",
      " 11  estado            1296675 non-null  object \n",
      " 12  cep               1296675 non-null  int64  \n",
      " 13  lat               1296675 non-null  float64\n",
      " 14  long              1296675 non-null  float64\n",
      " 15  populacao_cidade  1296675 non-null  int64  \n",
      " 16  ocupacao_titular  1296675 non-null  object \n",
      " 17  data_nasc         1296675 non-null  object \n",
      " 18  num_trans         1296675 non-null  object \n",
      " 19  id_data_hr_trans  1296675 non-null  int64  \n",
      " 20  lat_comercio      1296675 non-null  float64\n",
      " 21  long_comercio     1296675 non-null  float64\n",
      " 22  indicador_fraude  1296675 non-null  int64  \n",
      " 23  cep_comercio      1100702 non-null  float64\n",
      "dtypes: float64(6), int64(6), object(12)\n",
      "memory usage: 237.4+ MB\n"
     ]
    }
   ],
   "source": [
    "cd.info()"
   ]
  },
  {
   "cell_type": "markdown",
   "metadata": {},
   "source": [
    "- Variáveis numéricas: id, num_cartao, valor_trans, cep, lat, long, populacao_cidade, id_data_hr_trans, lat_comercio, long_comercio, indicador_fraude, cep_comercio\n",
    "- Variáveis categóricas: data_hr_trans...\n",
    "\n",
    "Verifiquei que variáveis como id, num_cartao, cep, cep, lat, long,  id_data_hr_trans, lat_comercio, long_comercio, indicador_fraude, cep_comercio, identificadas pelo python como númericas deverão ser transformadas em categóricas a depender das análises "
   ]
  },
  {
   "cell_type": "markdown",
   "metadata": {},
   "source": [
    "VALORES AUSENTES - MISSING VALUES"
   ]
  },
  {
   "cell_type": "code",
   "execution_count": 9,
   "metadata": {},
   "outputs": [
    {
     "data": {
      "text/plain": [
       "id                       0\n",
       "data_hr_trans            0\n",
       "num_cartao               0\n",
       "comercio                 0\n",
       "categoria                0\n",
       "valor_trans              0\n",
       "primeiro_nome            0\n",
       "ultimo_nome              0\n",
       "genero                   0\n",
       "endereco                 0\n",
       "cidade                   0\n",
       "estado                   0\n",
       "cep                      0\n",
       "lat                      0\n",
       "long                     0\n",
       "populacao_cidade         0\n",
       "ocupacao_titular         0\n",
       "data_nasc                0\n",
       "num_trans                0\n",
       "id_data_hr_trans         0\n",
       "lat_comercio             0\n",
       "long_comercio            0\n",
       "indicador_fraude         0\n",
       "cep_comercio        195973\n",
       "dtype: int64"
      ]
     },
     "execution_count": 9,
     "metadata": {},
     "output_type": "execute_result"
    }
   ],
   "source": [
    "valores_aus = (cd.isna().sum()) \n",
    "valores_aus"
   ]
  },
  {
   "cell_type": "code",
   "execution_count": 10,
   "metadata": {},
   "outputs": [
    {
     "name": "stdout",
     "output_type": "stream",
     "text": [
      "cep_comercio    15.113502\n",
      "dtype: float64 %\n"
     ]
    }
   ],
   "source": [
    "valores_ausentes_perc = valores_aus[valores_aus>0]/cd.shape[0]\n",
    "print(f'{valores_ausentes_perc * 100} %')"
   ]
  },
  {
   "cell_type": "markdown",
   "metadata": {},
   "source": [
    "- A única variável que tem valores ausentes é o CEP (195.973 valores ausentes). O que não deve atrapalhar nas análises. "
   ]
  },
  {
   "cell_type": "markdown",
   "metadata": {},
   "source": [
    "VALORES DUPLICADOS "
   ]
  },
  {
   "cell_type": "code",
   "execution_count": 11,
   "metadata": {},
   "outputs": [
    {
     "data": {
      "text/plain": [
       "0"
      ]
     },
     "execution_count": 11,
     "metadata": {},
     "output_type": "execute_result"
    }
   ],
   "source": [
    "cd.duplicated().sum()"
   ]
  },
  {
   "cell_type": "markdown",
   "metadata": {},
   "source": [
    "- Nenhum valor duplicado foi identificado "
   ]
  },
  {
   "cell_type": "markdown",
   "metadata": {},
   "source": [
    "TRATANDO DADOS DATETIME\n",
    "- foi verificado que as váriáveis de data e hora estavam em formatos não adequados, por isso, decidi transforma-las em tipo datetime"
   ]
  },
  {
   "cell_type": "code",
   "execution_count": 12,
   "metadata": {},
   "outputs": [],
   "source": [
    "cd['data_hr_trans'] = pd.to_datetime(cd['data_hr_trans'], errors='coerce')\n",
    "cd['data_nasc'] = pd.to_datetime(cd['data_nasc'], errors='coerce')"
   ]
  },
  {
   "cell_type": "code",
   "execution_count": 13,
   "metadata": {},
   "outputs": [
    {
     "name": "stdout",
     "output_type": "stream",
     "text": [
      "<class 'pandas.core.frame.DataFrame'>\n",
      "RangeIndex: 1296675 entries, 0 to 1296674\n",
      "Data columns (total 24 columns):\n",
      " #   Column            Non-Null Count    Dtype         \n",
      "---  ------            --------------    -----         \n",
      " 0   id                1296675 non-null  int64         \n",
      " 1   data_hr_trans     1296675 non-null  datetime64[ns]\n",
      " 2   num_cartao        1296675 non-null  int64         \n",
      " 3   comercio          1296675 non-null  object        \n",
      " 4   categoria         1296675 non-null  object        \n",
      " 5   valor_trans       1296675 non-null  float64       \n",
      " 6   primeiro_nome     1296675 non-null  object        \n",
      " 7   ultimo_nome       1296675 non-null  object        \n",
      " 8   genero            1296675 non-null  object        \n",
      " 9   endereco          1296675 non-null  object        \n",
      " 10  cidade            1296675 non-null  object        \n",
      " 11  estado            1296675 non-null  object        \n",
      " 12  cep               1296675 non-null  int64         \n",
      " 13  lat               1296675 non-null  float64       \n",
      " 14  long              1296675 non-null  float64       \n",
      " 15  populacao_cidade  1296675 non-null  int64         \n",
      " 16  ocupacao_titular  1296675 non-null  object        \n",
      " 17  data_nasc         1296675 non-null  datetime64[ns]\n",
      " 18  num_trans         1296675 non-null  object        \n",
      " 19  id_data_hr_trans  1296675 non-null  int64         \n",
      " 20  lat_comercio      1296675 non-null  float64       \n",
      " 21  long_comercio     1296675 non-null  float64       \n",
      " 22  indicador_fraude  1296675 non-null  int64         \n",
      " 23  cep_comercio      1100702 non-null  float64       \n",
      "dtypes: datetime64[ns](2), float64(6), int64(6), object(10)\n",
      "memory usage: 237.4+ MB\n"
     ]
    }
   ],
   "source": [
    "cd.info()"
   ]
  },
  {
   "cell_type": "markdown",
   "metadata": {},
   "source": [
    "- me chamou a atenção a quantidade de transações no inicio em Janeiro, então decidi investigar"
   ]
  },
  {
   "cell_type": "code",
   "execution_count": 14,
   "metadata": {},
   "outputs": [],
   "source": [
    "cd['ano_trans'] = cd['data_hr_trans'].dt.year\n",
    "cd['mes_trans'] = cd['data_hr_trans'].dt.strftime('%m')\n",
    "cd['dia_trans'] = cd['data_hr_trans'].dt.strftime('%d')\n",
    "cd['dia_mes_trans'] = cd['mes_trans'] + '-' + cd['mes_trans']"
   ]
  },
  {
   "cell_type": "code",
   "execution_count": 15,
   "metadata": {},
   "outputs": [],
   "source": [
    "contagem = cd['dia_mes_trans'].value_counts()"
   ]
  },
  {
   "cell_type": "code",
   "execution_count": 16,
   "metadata": {},
   "outputs": [
    {
     "data": {
      "text/plain": [
       "<Axes: xlabel='dia_mes_trans'>"
      ]
     },
     "execution_count": 16,
     "metadata": {},
     "output_type": "execute_result"
    },
    {
     "data": {
      "image/png": "[encoded data removed]",
      "text/plain": [
       "<Figure size 800x400 with 1 Axes>"
      ]
     },
     "metadata": {},
     "output_type": "display_data"
    }
   ],
   "source": [
    "plt.figure(figsize=(8, 4))\n",
    "contagem.plot(kind='bar')"
   ]
  },
  {
   "cell_type": "markdown",
   "metadata": {},
   "source": [
    "- apesar de uma grande quantidade de transações no dia 1, ele não é o dia com mais transações "
   ]
  },
  {
   "cell_type": "markdown",
   "metadata": {},
   "source": [
    "Criando e analisando informações sobre idade"
   ]
  },
  {
   "cell_type": "code",
   "execution_count": 17,
   "metadata": {},
   "outputs": [
    {
     "data": {
      "text/plain": [
       "array([31, 41, 57, 52, 33, 58, 26, 72, 78, 45, 29, 53, 30, 74, 54, 67, 81,\n",
       "       73, 39, 48, 55, 42, 49, 35, 21, 32, 77, 47, 59, 65, 25, 43, 38, 93,\n",
       "       83, 22, 64, 36, 40, 19, 62, 37, 84, 44, 24, 92, 91, 69, 61, 68, 34,\n",
       "       18, 90, 56, 71, 51, 46, 60, 20, 16, 50, 88, 79, 85, 27, 80, 66, 63,\n",
       "       15, 14, 82, 86, 23, 75, 28, 70, 76, 89, 87, 95, 94, 96, 17])"
      ]
     },
     "execution_count": 17,
     "metadata": {},
     "output_type": "execute_result"
    }
   ],
   "source": [
    "cd['idade'] = cd['data_hr_trans'].dt.year - cd['data_nasc'].dt.year \n",
    "cd['idade'].unique()"
   ]
  },
  {
   "cell_type": "code",
   "execution_count": 18,
   "metadata": {},
   "outputs": [],
   "source": [
    "bins = [0,20,30,40,50,60,100]\n",
    "labels = ['0-20','20-30', '30-40', '40-50', '50-60', '60+']\n",
    "cd['faixa_id'] = pd.cut(x=cd['idade'], bins=bins, labels=labels, right=True)\n"
   ]
  },
  {
   "cell_type": "code",
   "execution_count": 44,
   "metadata": {},
   "outputs": [
    {
     "data": {
      "text/plain": [
       "<Axes: xlabel='count', ylabel='faixa_id'>"
      ]
     },
     "execution_count": 44,
     "metadata": {},
     "output_type": "execute_result"
    },
    {
     "data": {
      "image/png": "[encoded data removed]",
      "text/plain": [
       "<Figure size 3000x2000 with 1 Axes>"
      ]
     },
     "metadata": {},
     "output_type": "display_data"
    }
   ],
   "source": [
    "plt.figure(figsize=(30,20))\n",
    "sea.countplot(cd, y='faixa_id', order = cd['faixa_id'].value_counts().index, hue ='genero')"
   ]
  },
  {
   "cell_type": "markdown",
   "metadata": {},
   "source": [
    "- a maior parte das transações foram realizadas por pessoas na faixa etária de 30 a 40 e 40 a 50\n",
    "- hommens entre 0 e 20 anos e 50 e 60 anos realizaram mais transações do que mulheres "
   ]
  },
  {
   "cell_type": "code",
   "execution_count": 20,
   "metadata": {},
   "outputs": [
    {
     "data": {
      "text/plain": [
       "<Axes: xlabel='categoria', ylabel='count'>"
      ]
     },
     "execution_count": 20,
     "metadata": {},
     "output_type": "execute_result"
    },
    {
     "data": {
      "image/png": "[encoded data removed]",
      "text/plain": [
       "<Figure size 2000x600 with 1 Axes>"
      ]
     },
     "metadata": {},
     "output_type": "display_data"
    }
   ],
   "source": [
    "plt.figure(figsize=(20,6))\n",
    "sea.countplot(cd, x='categoria', order=cd['categoria'].value_counts().index, hue='genero')"
   ]
  },
  {
   "cell_type": "code",
   "execution_count": 21,
   "metadata": {},
   "outputs": [],
   "source": [
    "pd.set_option('display.float_format', '{:.2f}'.format)\n"
   ]
  },
  {
   "cell_type": "markdown",
   "metadata": {},
   "source": [
    "Informações úteis continuidade da análise\n",
    "- Médida das transações foram de 70.35, sendo que, a máximo foi de 28.948,90, ou seja, os valores estão relativamente dispersos. \n",
    "\n",
    "Por isso, passo agora, a analisar os outliers da variável Valor da Transação "
   ]
  },
  {
   "cell_type": "code",
   "execution_count": 22,
   "metadata": {},
   "outputs": [
    {
     "data": {
      "text/html": [
       "<div>\n",
       "<style scoped>\n",
       "    .dataframe tbody tr th:only-of-type {\n",
       "        vertical-align: middle;\n",
       "    }\n",
       "\n",
       "    .dataframe tbody tr th {\n",
       "        vertical-align: top;\n",
       "    }\n",
       "\n",
       "    .dataframe thead th {\n",
       "        text-align: right;\n",
       "    }\n",
       "</style>\n",
       "<table border=\"1\" class=\"dataframe\">\n",
       "  <thead>\n",
       "    <tr style=\"text-align: right;\">\n",
       "      <th></th>\n",
       "      <th>id</th>\n",
       "      <th>data_hr_trans</th>\n",
       "      <th>num_cartao</th>\n",
       "      <th>valor_trans</th>\n",
       "      <th>cep</th>\n",
       "      <th>lat</th>\n",
       "      <th>long</th>\n",
       "      <th>populacao_cidade</th>\n",
       "      <th>data_nasc</th>\n",
       "      <th>id_data_hr_trans</th>\n",
       "      <th>lat_comercio</th>\n",
       "      <th>long_comercio</th>\n",
       "      <th>indicador_fraude</th>\n",
       "      <th>cep_comercio</th>\n",
       "      <th>ano_trans</th>\n",
       "      <th>idade</th>\n",
       "    </tr>\n",
       "  </thead>\n",
       "  <tbody>\n",
       "    <tr>\n",
       "      <th>count</th>\n",
       "      <td>1296675.00</td>\n",
       "      <td>1296675</td>\n",
       "      <td>1296675.00</td>\n",
       "      <td>1296675.00</td>\n",
       "      <td>1296675.00</td>\n",
       "      <td>1296675.00</td>\n",
       "      <td>1296675.00</td>\n",
       "      <td>1296675.00</td>\n",
       "      <td>1296675</td>\n",
       "      <td>1296675.00</td>\n",
       "      <td>1296675.00</td>\n",
       "      <td>1296675.00</td>\n",
       "      <td>1296675.00</td>\n",
       "      <td>1100702.00</td>\n",
       "      <td>1296675.00</td>\n",
       "      <td>1296675.00</td>\n",
       "    </tr>\n",
       "    <tr>\n",
       "      <th>mean</th>\n",
       "      <td>648337.00</td>\n",
       "      <td>2019-10-03 12:47:28.070214144</td>\n",
       "      <td>417192042079726656.00</td>\n",
       "      <td>70.35</td>\n",
       "      <td>48800.67</td>\n",
       "      <td>38.54</td>\n",
       "      <td>-90.23</td>\n",
       "      <td>88824.44</td>\n",
       "      <td>1973-10-03 19:02:55.017178512</td>\n",
       "      <td>1349243636.73</td>\n",
       "      <td>38.54</td>\n",
       "      <td>-90.23</td>\n",
       "      <td>0.01</td>\n",
       "      <td>46825.75</td>\n",
       "      <td>2019.29</td>\n",
       "      <td>46.03</td>\n",
       "    </tr>\n",
       "    <tr>\n",
       "      <th>min</th>\n",
       "      <td>0.00</td>\n",
       "      <td>2019-01-01 00:00:18</td>\n",
       "      <td>60416207185.00</td>\n",
       "      <td>1.00</td>\n",
       "      <td>1257.00</td>\n",
       "      <td>20.03</td>\n",
       "      <td>-165.67</td>\n",
       "      <td>23.00</td>\n",
       "      <td>1924-10-30 00:00:00</td>\n",
       "      <td>1325376018.00</td>\n",
       "      <td>19.03</td>\n",
       "      <td>-166.67</td>\n",
       "      <td>0.00</td>\n",
       "      <td>1001.00</td>\n",
       "      <td>2019.00</td>\n",
       "      <td>14.00</td>\n",
       "    </tr>\n",
       "    <tr>\n",
       "      <th>25%</th>\n",
       "      <td>324168.50</td>\n",
       "      <td>2019-06-03 19:12:22.500000</td>\n",
       "      <td>180042946491150.00</td>\n",
       "      <td>9.65</td>\n",
       "      <td>26237.00</td>\n",
       "      <td>34.62</td>\n",
       "      <td>-96.80</td>\n",
       "      <td>743.00</td>\n",
       "      <td>1962-08-13 00:00:00</td>\n",
       "      <td>1338750742.50</td>\n",
       "      <td>34.73</td>\n",
       "      <td>-96.90</td>\n",
       "      <td>0.00</td>\n",
       "      <td>25114.00</td>\n",
       "      <td>2019.00</td>\n",
       "      <td>33.00</td>\n",
       "    </tr>\n",
       "    <tr>\n",
       "      <th>50%</th>\n",
       "      <td>648337.00</td>\n",
       "      <td>2019-10-03 07:35:47</td>\n",
       "      <td>3521417320836166.00</td>\n",
       "      <td>47.52</td>\n",
       "      <td>48174.00</td>\n",
       "      <td>39.35</td>\n",
       "      <td>-87.48</td>\n",
       "      <td>2456.00</td>\n",
       "      <td>1975-11-30 00:00:00</td>\n",
       "      <td>1349249747.00</td>\n",
       "      <td>39.37</td>\n",
       "      <td>-87.44</td>\n",
       "      <td>0.00</td>\n",
       "      <td>45860.00</td>\n",
       "      <td>2019.00</td>\n",
       "      <td>44.00</td>\n",
       "    </tr>\n",
       "    <tr>\n",
       "      <th>75%</th>\n",
       "      <td>972505.50</td>\n",
       "      <td>2020-01-28 15:02:55.500000</td>\n",
       "      <td>4642255475285942.00</td>\n",
       "      <td>83.14</td>\n",
       "      <td>72042.00</td>\n",
       "      <td>41.94</td>\n",
       "      <td>-80.16</td>\n",
       "      <td>20328.00</td>\n",
       "      <td>1987-02-22 00:00:00</td>\n",
       "      <td>1359385375.50</td>\n",
       "      <td>41.96</td>\n",
       "      <td>-80.24</td>\n",
       "      <td>0.00</td>\n",
       "      <td>68319.00</td>\n",
       "      <td>2020.00</td>\n",
       "      <td>57.00</td>\n",
       "    </tr>\n",
       "    <tr>\n",
       "      <th>max</th>\n",
       "      <td>1296674.00</td>\n",
       "      <td>2020-06-21 12:13:37</td>\n",
       "      <td>4992346398065154048.00</td>\n",
       "      <td>28948.90</td>\n",
       "      <td>99783.00</td>\n",
       "      <td>66.69</td>\n",
       "      <td>-67.95</td>\n",
       "      <td>2906700.00</td>\n",
       "      <td>2005-01-29 00:00:00</td>\n",
       "      <td>1371816817.00</td>\n",
       "      <td>67.51</td>\n",
       "      <td>-66.95</td>\n",
       "      <td>1.00</td>\n",
       "      <td>99403.00</td>\n",
       "      <td>2020.00</td>\n",
       "      <td>96.00</td>\n",
       "    </tr>\n",
       "    <tr>\n",
       "      <th>std</th>\n",
       "      <td>374317.97</td>\n",
       "      <td>NaN</td>\n",
       "      <td>1308806447000789248.00</td>\n",
       "      <td>160.32</td>\n",
       "      <td>26893.22</td>\n",
       "      <td>5.08</td>\n",
       "      <td>13.76</td>\n",
       "      <td>301956.36</td>\n",
       "      <td>NaN</td>\n",
       "      <td>12841278.42</td>\n",
       "      <td>5.11</td>\n",
       "      <td>13.77</td>\n",
       "      <td>0.08</td>\n",
       "      <td>25834.00</td>\n",
       "      <td>0.45</td>\n",
       "      <td>17.38</td>\n",
       "    </tr>\n",
       "  </tbody>\n",
       "</table>\n",
       "</div>"
      ],
      "text/plain": [
       "              id                  data_hr_trans             num_cartao  \\\n",
       "count 1296675.00                        1296675             1296675.00   \n",
       "mean   648337.00  2019-10-03 12:47:28.070214144  417192042079726656.00   \n",
       "min         0.00            2019-01-01 00:00:18         60416207185.00   \n",
       "25%    324168.50     2019-06-03 19:12:22.500000     180042946491150.00   \n",
       "50%    648337.00            2019-10-03 07:35:47    3521417320836166.00   \n",
       "75%    972505.50     2020-01-28 15:02:55.500000    4642255475285942.00   \n",
       "max   1296674.00            2020-06-21 12:13:37 4992346398065154048.00   \n",
       "std    374317.97                            NaN 1308806447000789248.00   \n",
       "\n",
       "       valor_trans        cep        lat       long  populacao_cidade  \\\n",
       "count   1296675.00 1296675.00 1296675.00 1296675.00        1296675.00   \n",
       "mean         70.35   48800.67      38.54     -90.23          88824.44   \n",
       "min           1.00    1257.00      20.03    -165.67             23.00   \n",
       "25%           9.65   26237.00      34.62     -96.80            743.00   \n",
       "50%          47.52   48174.00      39.35     -87.48           2456.00   \n",
       "75%          83.14   72042.00      41.94     -80.16          20328.00   \n",
       "max       28948.90   99783.00      66.69     -67.95        2906700.00   \n",
       "std         160.32   26893.22       5.08      13.76         301956.36   \n",
       "\n",
       "                           data_nasc  id_data_hr_trans  lat_comercio  \\\n",
       "count                        1296675        1296675.00    1296675.00   \n",
       "mean   1973-10-03 19:02:55.017178512     1349243636.73         38.54   \n",
       "min              1924-10-30 00:00:00     1325376018.00         19.03   \n",
       "25%              1962-08-13 00:00:00     1338750742.50         34.73   \n",
       "50%              1975-11-30 00:00:00     1349249747.00         39.37   \n",
       "75%              1987-02-22 00:00:00     1359385375.50         41.96   \n",
       "max              2005-01-29 00:00:00     1371816817.00         67.51   \n",
       "std                              NaN       12841278.42          5.11   \n",
       "\n",
       "       long_comercio  indicador_fraude  cep_comercio  ano_trans      idade  \n",
       "count     1296675.00        1296675.00    1100702.00 1296675.00 1296675.00  \n",
       "mean          -90.23              0.01      46825.75    2019.29      46.03  \n",
       "min          -166.67              0.00       1001.00    2019.00      14.00  \n",
       "25%           -96.90              0.00      25114.00    2019.00      33.00  \n",
       "50%           -87.44              0.00      45860.00    2019.00      44.00  \n",
       "75%           -80.24              0.00      68319.00    2020.00      57.00  \n",
       "max           -66.95              1.00      99403.00    2020.00      96.00  \n",
       "std            13.77              0.08      25834.00       0.45      17.38  "
      ]
     },
     "execution_count": 22,
     "metadata": {},
     "output_type": "execute_result"
    }
   ],
   "source": [
    "cd.describe()"
   ]
  },
  {
   "cell_type": "code",
   "execution_count": 23,
   "metadata": {},
   "outputs": [
    {
     "data": {
      "text/plain": [
       "array([1], dtype=int64)"
      ]
     },
     "execution_count": 23,
     "metadata": {},
     "output_type": "execute_result"
    }
   ],
   "source": [
    "cd['id'].value_counts().unique()"
   ]
  },
  {
   "cell_type": "markdown",
   "metadata": {},
   "source": [
    "GRÁFICO DE DENSIDADE - VALOR DA TRANSAÇÃO"
   ]
  },
  {
   "cell_type": "code",
   "execution_count": 24,
   "metadata": {},
   "outputs": [
    {
     "data": {
      "text/plain": [
       "<Axes: xlabel='valor_trans', ylabel='Density'>"
      ]
     },
     "execution_count": 24,
     "metadata": {},
     "output_type": "execute_result"
    },
    {
     "data": {
      "image/png": "[encoded data removed]",
      "text/plain": [
       "<Figure size 640x480 with 1 Axes>"
      ]
     },
     "metadata": {},
     "output_type": "display_data"
    }
   ],
   "source": [
    "sea.kdeplot(data=cd, x='valor_trans')"
   ]
  },
  {
   "cell_type": "markdown",
   "metadata": {},
   "source": [
    "BOXPLOT - VALOR DA TRANSAÇÃO"
   ]
  },
  {
   "cell_type": "code",
   "execution_count": 25,
   "metadata": {},
   "outputs": [
    {
     "data": {
      "text/plain": [
       "<Axes: ylabel='valor_trans'>"
      ]
     },
     "execution_count": 25,
     "metadata": {},
     "output_type": "execute_result"
    },
    {
     "data": {
      "image/png": "[encoded data removed]",
      "text/plain": [
       "<Figure size 640x480 with 1 Axes>"
      ]
     },
     "metadata": {},
     "output_type": "display_data"
    }
   ],
   "source": [
    "sea.boxplot(cd['valor_trans'])"
   ]
  },
  {
   "cell_type": "code",
   "execution_count": 26,
   "metadata": {},
   "outputs": [
    {
     "data": {
      "text/plain": [
       "Index(['id', 'data_hr_trans', 'num_cartao', 'comercio', 'categoria',\n",
       "       'valor_trans', 'primeiro_nome', 'ultimo_nome', 'genero', 'endereco',\n",
       "       'cidade', 'estado', 'cep', 'lat', 'long', 'populacao_cidade',\n",
       "       'ocupacao_titular', 'data_nasc', 'num_trans', 'id_data_hr_trans',\n",
       "       'lat_comercio', 'long_comercio', 'indicador_fraude', 'cep_comercio',\n",
       "       'ano_trans', 'mes_trans', 'dia_trans', 'dia_mes_trans', 'idade',\n",
       "       'faixa_id'],\n",
       "      dtype='object')"
      ]
     },
     "execution_count": 26,
     "metadata": {},
     "output_type": "execute_result"
    }
   ],
   "source": [
    "cd.columns"
   ]
  },
  {
   "cell_type": "markdown",
   "metadata": {},
   "source": [
    "GÁFICO DE DISPERSÃO - CATEGORIAS X VALOR DA TRANSAÇÃO "
   ]
  },
  {
   "cell_type": "code",
   "execution_count": 42,
   "metadata": {},
   "outputs": [
    {
     "data": {
      "text/plain": [
       "(array([-5000.,     0.,  5000., 10000., 15000., 20000., 25000., 30000.,\n",
       "        35000.]),\n",
       " [Text(-5000.0, 0, '−5000'),\n",
       "  Text(0.0, 0, '0'),\n",
       "  Text(5000.0, 0, '5000'),\n",
       "  Text(10000.0, 0, '10000'),\n",
       "  Text(15000.0, 0, '15000'),\n",
       "  Text(20000.0, 0, '20000'),\n",
       "  Text(25000.0, 0, '25000'),\n",
       "  Text(30000.0, 0, '30000'),\n",
       "  Text(35000.0, 0, '35000')])"
      ]
     },
     "execution_count": 42,
     "metadata": {},
     "output_type": "execute_result"
    },
    {
     "data": {
      "image/png": "[encoded data removed]",
      "text/plain": [
       "<Figure size 1000x800 with 1 Axes>"
      ]
     },
     "metadata": {},
     "output_type": "display_data"
    }
   ],
   "source": [
    "plt.figure(figsize=(10, 8))  # Altere esses valores conforme necessário\n",
    "sea.scatterplot(data=cd, x='valor_trans', y=\"categoria\", s=10, alpha=0.8)\n",
    "plt.xlabel('Categorias', fontsize=10)  # Tamanho do rótulo do eixo x\n",
    "plt.ylabel('Valor das transações', fontsize=10)  # Tamanho do rótulo do eixo x\n",
    "\n",
    "plt.tick_params(axis='both', which='both', labelsize=10)  # Ajusta o tamanho das etiquetas dos eixos\n",
    "plt.xticks(rotation=90)  # Rótulos do eixo x na vertical\n",
    "\n"
   ]
  },
  {
   "cell_type": "code",
   "execution_count": null,
   "metadata": {},
   "outputs": [],
   "source": [
    "#Identificação de outliers atavés do método do IQR\n",
    "\n",
    "Q1 = cd['valor_trans'].quantile(0.25)\n",
    "Q3 = cd['valor_trans'].quantile(0.75)\n",
    "IQR = Q3 - Q1"
   ]
  },
  {
   "cell_type": "code",
   "execution_count": null,
   "metadata": {},
   "outputs": [],
   "source": [
    "lower_bound = Q1 - 1.5 * IQR\n",
    "upper_bound = Q3 + 1.5 * IQR\n"
   ]
  },
  {
   "cell_type": "code",
   "execution_count": null,
   "metadata": {},
   "outputs": [
    {
     "data": {
      "text/html": [
       "<div>\n",
       "<style scoped>\n",
       "    .dataframe tbody tr th:only-of-type {\n",
       "        vertical-align: middle;\n",
       "    }\n",
       "\n",
       "    .dataframe tbody tr th {\n",
       "        vertical-align: top;\n",
       "    }\n",
       "\n",
       "    .dataframe thead th {\n",
       "        text-align: right;\n",
       "    }\n",
       "</style>\n",
       "<table border=\"1\" class=\"dataframe\">\n",
       "  <thead>\n",
       "    <tr style=\"text-align: right;\">\n",
       "      <th></th>\n",
       "      <th>id</th>\n",
       "      <th>data_hr_trans</th>\n",
       "      <th>num_cartao</th>\n",
       "      <th>comercio</th>\n",
       "      <th>categoria</th>\n",
       "      <th>valor_trans</th>\n",
       "      <th>primeiro_nome</th>\n",
       "      <th>ultimo_nome</th>\n",
       "      <th>genero</th>\n",
       "      <th>endereco</th>\n",
       "      <th>...</th>\n",
       "      <th>lat_comercio</th>\n",
       "      <th>long_comercio</th>\n",
       "      <th>indicador_fraude</th>\n",
       "      <th>cep_comercio</th>\n",
       "      <th>ano_trans</th>\n",
       "      <th>mes_trans</th>\n",
       "      <th>dia_trans</th>\n",
       "      <th>dia_mes_trans</th>\n",
       "      <th>idade</th>\n",
       "      <th>faixa_id</th>\n",
       "    </tr>\n",
       "  </thead>\n",
       "  <tbody>\n",
       "    <tr>\n",
       "      <th>0</th>\n",
       "      <td>0</td>\n",
       "      <td>2019-01-01 00:00:18</td>\n",
       "      <td>2703186189652095</td>\n",
       "      <td>fraud_Rippin, Kub and Mann</td>\n",
       "      <td>misc_net</td>\n",
       "      <td>4.97</td>\n",
       "      <td>Jennifer</td>\n",
       "      <td>Banks</td>\n",
       "      <td>F</td>\n",
       "      <td>561 Perry Cove</td>\n",
       "      <td>...</td>\n",
       "      <td>36.01</td>\n",
       "      <td>-82.05</td>\n",
       "      <td>0</td>\n",
       "      <td>28705.00</td>\n",
       "      <td>2019</td>\n",
       "      <td>01</td>\n",
       "      <td>01</td>\n",
       "      <td>01-01</td>\n",
       "      <td>31</td>\n",
       "      <td>30-40</td>\n",
       "    </tr>\n",
       "    <tr>\n",
       "      <th>1</th>\n",
       "      <td>1</td>\n",
       "      <td>2019-01-01 00:00:44</td>\n",
       "      <td>630423337322</td>\n",
       "      <td>fraud_Heller, Gutmann and Zieme</td>\n",
       "      <td>grocery_pos</td>\n",
       "      <td>107.23</td>\n",
       "      <td>Stephanie</td>\n",
       "      <td>Gill</td>\n",
       "      <td>F</td>\n",
       "      <td>43039 Riley Greens Suite 393</td>\n",
       "      <td>...</td>\n",
       "      <td>49.16</td>\n",
       "      <td>-118.19</td>\n",
       "      <td>0</td>\n",
       "      <td>NaN</td>\n",
       "      <td>2019</td>\n",
       "      <td>01</td>\n",
       "      <td>01</td>\n",
       "      <td>01-01</td>\n",
       "      <td>41</td>\n",
       "      <td>40-50</td>\n",
       "    </tr>\n",
       "    <tr>\n",
       "      <th>3</th>\n",
       "      <td>3</td>\n",
       "      <td>2019-01-01 00:01:16</td>\n",
       "      <td>3534093764340240</td>\n",
       "      <td>fraud_Kutch, Hermiston and Farrell</td>\n",
       "      <td>gas_transport</td>\n",
       "      <td>45.00</td>\n",
       "      <td>Jeremy</td>\n",
       "      <td>White</td>\n",
       "      <td>M</td>\n",
       "      <td>9443 Cynthia Court Apt. 038</td>\n",
       "      <td>...</td>\n",
       "      <td>47.03</td>\n",
       "      <td>-112.56</td>\n",
       "      <td>0</td>\n",
       "      <td>NaN</td>\n",
       "      <td>2019</td>\n",
       "      <td>01</td>\n",
       "      <td>01</td>\n",
       "      <td>01-01</td>\n",
       "      <td>52</td>\n",
       "      <td>50-60</td>\n",
       "    </tr>\n",
       "    <tr>\n",
       "      <th>4</th>\n",
       "      <td>4</td>\n",
       "      <td>2019-01-01 00:03:06</td>\n",
       "      <td>375534208663984</td>\n",
       "      <td>fraud_Keeling-Crist</td>\n",
       "      <td>misc_pos</td>\n",
       "      <td>41.96</td>\n",
       "      <td>Tyler</td>\n",
       "      <td>Garcia</td>\n",
       "      <td>M</td>\n",
       "      <td>408 Bradley Rest</td>\n",
       "      <td>...</td>\n",
       "      <td>38.67</td>\n",
       "      <td>-78.63</td>\n",
       "      <td>0</td>\n",
       "      <td>22844.00</td>\n",
       "      <td>2019</td>\n",
       "      <td>01</td>\n",
       "      <td>01</td>\n",
       "      <td>01-01</td>\n",
       "      <td>33</td>\n",
       "      <td>30-40</td>\n",
       "    </tr>\n",
       "    <tr>\n",
       "      <th>5</th>\n",
       "      <td>5</td>\n",
       "      <td>2019-01-01 00:04:08</td>\n",
       "      <td>4767265376804500</td>\n",
       "      <td>fraud_Stroman, Hudson and Erdman</td>\n",
       "      <td>gas_transport</td>\n",
       "      <td>94.63</td>\n",
       "      <td>Jennifer</td>\n",
       "      <td>Conner</td>\n",
       "      <td>F</td>\n",
       "      <td>4655 David Island</td>\n",
       "      <td>...</td>\n",
       "      <td>40.65</td>\n",
       "      <td>-76.15</td>\n",
       "      <td>0</td>\n",
       "      <td>17972.00</td>\n",
       "      <td>2019</td>\n",
       "      <td>01</td>\n",
       "      <td>01</td>\n",
       "      <td>01-01</td>\n",
       "      <td>58</td>\n",
       "      <td>50-60</td>\n",
       "    </tr>\n",
       "  </tbody>\n",
       "</table>\n",
       "<p>5 rows × 30 columns</p>\n",
       "</div>"
      ],
      "text/plain": [
       "   id       data_hr_trans        num_cartao  \\\n",
       "0   0 2019-01-01 00:00:18  2703186189652095   \n",
       "1   1 2019-01-01 00:00:44      630423337322   \n",
       "3   3 2019-01-01 00:01:16  3534093764340240   \n",
       "4   4 2019-01-01 00:03:06   375534208663984   \n",
       "5   5 2019-01-01 00:04:08  4767265376804500   \n",
       "\n",
       "                             comercio      categoria  valor_trans  \\\n",
       "0          fraud_Rippin, Kub and Mann       misc_net         4.97   \n",
       "1     fraud_Heller, Gutmann and Zieme    grocery_pos       107.23   \n",
       "3  fraud_Kutch, Hermiston and Farrell  gas_transport        45.00   \n",
       "4                 fraud_Keeling-Crist       misc_pos        41.96   \n",
       "5    fraud_Stroman, Hudson and Erdman  gas_transport        94.63   \n",
       "\n",
       "  primeiro_nome ultimo_nome genero                      endereco  ...  \\\n",
       "0      Jennifer       Banks      F                561 Perry Cove  ...   \n",
       "1     Stephanie        Gill      F  43039 Riley Greens Suite 393  ...   \n",
       "3        Jeremy       White      M   9443 Cynthia Court Apt. 038  ...   \n",
       "4         Tyler      Garcia      M              408 Bradley Rest  ...   \n",
       "5      Jennifer      Conner      F             4655 David Island  ...   \n",
       "\n",
       "  lat_comercio long_comercio  indicador_fraude  cep_comercio  ano_trans  \\\n",
       "0        36.01        -82.05                 0      28705.00       2019   \n",
       "1        49.16       -118.19                 0           NaN       2019   \n",
       "3        47.03       -112.56                 0           NaN       2019   \n",
       "4        38.67        -78.63                 0      22844.00       2019   \n",
       "5        40.65        -76.15                 0      17972.00       2019   \n",
       "\n",
       "   mes_trans dia_trans dia_mes_trans idade  faixa_id  \n",
       "0         01        01         01-01    31     30-40  \n",
       "1         01        01         01-01    41     40-50  \n",
       "3         01        01         01-01    52     50-60  \n",
       "4         01        01         01-01    33     30-40  \n",
       "5         01        01         01-01    58     50-60  \n",
       "\n",
       "[5 rows x 30 columns]"
      ]
     },
     "execution_count": 31,
     "metadata": {},
     "output_type": "execute_result"
    }
   ],
   "source": [
    "df_sem_outliers = cd[(cd['valor_trans'] >= lower_bound) & (cd['valor_trans'] <= upper_bound)]\n",
    "df_sem_outliers.head()\n"
   ]
  },
  {
   "cell_type": "markdown",
   "metadata": {},
   "source": [
    "- Após a verificar o exesso de outliers na variável Valor da transação, decidi, por pernancer com todos os valores, tendo em vista que o objetivo principal da análise é o comportamento de compras "
   ]
  }
 ],
 "metadata": {
  "kernelspec": {
   "display_name": "base",
   "language": "python",
   "name": "python3"
  },
  "language_info": {
   "codemirror_mode": {
    "name": "ipython",
    "version": 3
   },
   "file_extension": ".py",
   "mimetype": "text/x-python",
   "name": "python",
   "nbconvert_exporter": "python",
   "pygments_lexer": "ipython3",
   "version": "3.11.5"
  }
 },
 "nbformat": 4,
 "nbformat_minor": 2
}
