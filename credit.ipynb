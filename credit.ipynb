{
 "cells": [
  {
   "cell_type": "markdown",
   "metadata": {},
   "source": [
    "DADOS EM https://www.kaggle.com/datasets/priyamchoksi/credit-card-transactions-dataset"
   ]
  },
  {
   "cell_type": "markdown",
   "metadata": {},
   "source": []
  },
  {
   "cell_type": "code",
   "execution_count": 46,
   "metadata": {},
   "outputs": [],
   "source": [
    "import pandas as pd\n",
    "import matplotlib.pyplot as plt\n",
    "import seaborn as sea\n",
    "from datetime import datetime, date\n",
    "import warnings\n",
    "warnings.simplefilter(action='ignore', category=FutureWarning)"
   ]
  },
  {
   "cell_type": "code",
   "execution_count": 26,
   "metadata": {},
   "outputs": [
    {
     "data": {
      "text/html": [
       "<div>\n",
       "<style scoped>\n",
       "    .dataframe tbody tr th:only-of-type {\n",
       "        vertical-align: middle;\n",
       "    }\n",
       "\n",
       "    .dataframe tbody tr th {\n",
       "        vertical-align: top;\n",
       "    }\n",
       "\n",
       "    .dataframe thead th {\n",
       "        text-align: right;\n",
       "    }\n",
       "</style>\n",
       "<table border=\"1\" class=\"dataframe\">\n",
       "  <thead>\n",
       "    <tr style=\"text-align: right;\">\n",
       "      <th></th>\n",
       "      <th>Unnamed: 0</th>\n",
       "      <th>trans_date_trans_time</th>\n",
       "      <th>cc_num</th>\n",
       "      <th>merchant</th>\n",
       "      <th>category</th>\n",
       "      <th>amt</th>\n",
       "      <th>first</th>\n",
       "      <th>last</th>\n",
       "      <th>gender</th>\n",
       "      <th>street</th>\n",
       "      <th>...</th>\n",
       "      <th>long</th>\n",
       "      <th>city_pop</th>\n",
       "      <th>job</th>\n",
       "      <th>dob</th>\n",
       "      <th>trans_num</th>\n",
       "      <th>unix_time</th>\n",
       "      <th>merch_lat</th>\n",
       "      <th>merch_long</th>\n",
       "      <th>is_fraud</th>\n",
       "      <th>merch_zipcode</th>\n",
       "    </tr>\n",
       "  </thead>\n",
       "  <tbody>\n",
       "    <tr>\n",
       "      <th>0</th>\n",
       "      <td>0</td>\n",
       "      <td>2019-01-01 00:00:18</td>\n",
       "      <td>2703186189652095</td>\n",
       "      <td>fraud_Rippin, Kub and Mann</td>\n",
       "      <td>misc_net</td>\n",
       "      <td>4.97</td>\n",
       "      <td>Jennifer</td>\n",
       "      <td>Banks</td>\n",
       "      <td>F</td>\n",
       "      <td>561 Perry Cove</td>\n",
       "      <td>...</td>\n",
       "      <td>-81.1781</td>\n",
       "      <td>3495</td>\n",
       "      <td>Psychologist, counselling</td>\n",
       "      <td>1988-03-09</td>\n",
       "      <td>0b242abb623afc578575680df30655b9</td>\n",
       "      <td>1325376018</td>\n",
       "      <td>36.011293</td>\n",
       "      <td>-82.048315</td>\n",
       "      <td>0</td>\n",
       "      <td>28705.0</td>\n",
       "    </tr>\n",
       "    <tr>\n",
       "      <th>1</th>\n",
       "      <td>1</td>\n",
       "      <td>2019-01-01 00:00:44</td>\n",
       "      <td>630423337322</td>\n",
       "      <td>fraud_Heller, Gutmann and Zieme</td>\n",
       "      <td>grocery_pos</td>\n",
       "      <td>107.23</td>\n",
       "      <td>Stephanie</td>\n",
       "      <td>Gill</td>\n",
       "      <td>F</td>\n",
       "      <td>43039 Riley Greens Suite 393</td>\n",
       "      <td>...</td>\n",
       "      <td>-118.2105</td>\n",
       "      <td>149</td>\n",
       "      <td>Special educational needs teacher</td>\n",
       "      <td>1978-06-21</td>\n",
       "      <td>1f76529f8574734946361c461b024d99</td>\n",
       "      <td>1325376044</td>\n",
       "      <td>49.159047</td>\n",
       "      <td>-118.186462</td>\n",
       "      <td>0</td>\n",
       "      <td>NaN</td>\n",
       "    </tr>\n",
       "    <tr>\n",
       "      <th>2</th>\n",
       "      <td>2</td>\n",
       "      <td>2019-01-01 00:00:51</td>\n",
       "      <td>38859492057661</td>\n",
       "      <td>fraud_Lind-Buckridge</td>\n",
       "      <td>entertainment</td>\n",
       "      <td>220.11</td>\n",
       "      <td>Edward</td>\n",
       "      <td>Sanchez</td>\n",
       "      <td>M</td>\n",
       "      <td>594 White Dale Suite 530</td>\n",
       "      <td>...</td>\n",
       "      <td>-112.2620</td>\n",
       "      <td>4154</td>\n",
       "      <td>Nature conservation officer</td>\n",
       "      <td>1962-01-19</td>\n",
       "      <td>a1a22d70485983eac12b5b88dad1cf95</td>\n",
       "      <td>1325376051</td>\n",
       "      <td>43.150704</td>\n",
       "      <td>-112.154481</td>\n",
       "      <td>0</td>\n",
       "      <td>83236.0</td>\n",
       "    </tr>\n",
       "    <tr>\n",
       "      <th>3</th>\n",
       "      <td>3</td>\n",
       "      <td>2019-01-01 00:01:16</td>\n",
       "      <td>3534093764340240</td>\n",
       "      <td>fraud_Kutch, Hermiston and Farrell</td>\n",
       "      <td>gas_transport</td>\n",
       "      <td>45.00</td>\n",
       "      <td>Jeremy</td>\n",
       "      <td>White</td>\n",
       "      <td>M</td>\n",
       "      <td>9443 Cynthia Court Apt. 038</td>\n",
       "      <td>...</td>\n",
       "      <td>-112.1138</td>\n",
       "      <td>1939</td>\n",
       "      <td>Patent attorney</td>\n",
       "      <td>1967-01-12</td>\n",
       "      <td>6b849c168bdad6f867558c3793159a81</td>\n",
       "      <td>1325376076</td>\n",
       "      <td>47.034331</td>\n",
       "      <td>-112.561071</td>\n",
       "      <td>0</td>\n",
       "      <td>NaN</td>\n",
       "    </tr>\n",
       "    <tr>\n",
       "      <th>4</th>\n",
       "      <td>4</td>\n",
       "      <td>2019-01-01 00:03:06</td>\n",
       "      <td>375534208663984</td>\n",
       "      <td>fraud_Keeling-Crist</td>\n",
       "      <td>misc_pos</td>\n",
       "      <td>41.96</td>\n",
       "      <td>Tyler</td>\n",
       "      <td>Garcia</td>\n",
       "      <td>M</td>\n",
       "      <td>408 Bradley Rest</td>\n",
       "      <td>...</td>\n",
       "      <td>-79.4629</td>\n",
       "      <td>99</td>\n",
       "      <td>Dance movement psychotherapist</td>\n",
       "      <td>1986-03-28</td>\n",
       "      <td>a41d7549acf90789359a9aa5346dcb46</td>\n",
       "      <td>1325376186</td>\n",
       "      <td>38.674999</td>\n",
       "      <td>-78.632459</td>\n",
       "      <td>0</td>\n",
       "      <td>22844.0</td>\n",
       "    </tr>\n",
       "  </tbody>\n",
       "</table>\n",
       "<p>5 rows × 24 columns</p>\n",
       "</div>"
      ],
      "text/plain": [
       "   Unnamed: 0 trans_date_trans_time            cc_num  \\\n",
       "0           0   2019-01-01 00:00:18  2703186189652095   \n",
       "1           1   2019-01-01 00:00:44      630423337322   \n",
       "2           2   2019-01-01 00:00:51    38859492057661   \n",
       "3           3   2019-01-01 00:01:16  3534093764340240   \n",
       "4           4   2019-01-01 00:03:06   375534208663984   \n",
       "\n",
       "                             merchant       category     amt      first  \\\n",
       "0          fraud_Rippin, Kub and Mann       misc_net    4.97   Jennifer   \n",
       "1     fraud_Heller, Gutmann and Zieme    grocery_pos  107.23  Stephanie   \n",
       "2                fraud_Lind-Buckridge  entertainment  220.11     Edward   \n",
       "3  fraud_Kutch, Hermiston and Farrell  gas_transport   45.00     Jeremy   \n",
       "4                 fraud_Keeling-Crist       misc_pos   41.96      Tyler   \n",
       "\n",
       "      last gender                        street  ...      long city_pop  \\\n",
       "0    Banks      F                561 Perry Cove  ...  -81.1781     3495   \n",
       "1     Gill      F  43039 Riley Greens Suite 393  ... -118.2105      149   \n",
       "2  Sanchez      M      594 White Dale Suite 530  ... -112.2620     4154   \n",
       "3    White      M   9443 Cynthia Court Apt. 038  ... -112.1138     1939   \n",
       "4   Garcia      M              408 Bradley Rest  ...  -79.4629       99   \n",
       "\n",
       "                                 job         dob  \\\n",
       "0          Psychologist, counselling  1988-03-09   \n",
       "1  Special educational needs teacher  1978-06-21   \n",
       "2        Nature conservation officer  1962-01-19   \n",
       "3                    Patent attorney  1967-01-12   \n",
       "4     Dance movement psychotherapist  1986-03-28   \n",
       "\n",
       "                          trans_num   unix_time  merch_lat  merch_long  \\\n",
       "0  0b242abb623afc578575680df30655b9  1325376018  36.011293  -82.048315   \n",
       "1  1f76529f8574734946361c461b024d99  1325376044  49.159047 -118.186462   \n",
       "2  a1a22d70485983eac12b5b88dad1cf95  1325376051  43.150704 -112.154481   \n",
       "3  6b849c168bdad6f867558c3793159a81  1325376076  47.034331 -112.561071   \n",
       "4  a41d7549acf90789359a9aa5346dcb46  1325376186  38.674999  -78.632459   \n",
       "\n",
       "  is_fraud  merch_zipcode  \n",
       "0        0        28705.0  \n",
       "1        0            NaN  \n",
       "2        0        83236.0  \n",
       "3        0            NaN  \n",
       "4        0        22844.0  \n",
       "\n",
       "[5 rows x 24 columns]"
      ]
     },
     "execution_count": 26,
     "metadata": {},
     "output_type": "execute_result"
    }
   ],
   "source": [
    "cd= pd.read_csv(r'C:\\Users\\llcor\\OneDrive\\Área de Trabalho\\DadosKaggle\\credit_card_transactions.csv')\n",
    "cd.head()"
   ]
  },
  {
   "cell_type": "markdown",
   "metadata": {},
   "source": [
    "CONHECENDO O DATASET"
   ]
  },
  {
   "cell_type": "code",
   "execution_count": 27,
   "metadata": {},
   "outputs": [
    {
     "data": {
      "text/plain": [
       "(1296675, 24)"
      ]
     },
     "execution_count": 27,
     "metadata": {},
     "output_type": "execute_result"
    }
   ],
   "source": [
    "cd.shape"
   ]
  },
  {
   "cell_type": "markdown",
   "metadata": {},
   "source": [
    "- Verifica-se que o dataset tem 1.296.675 linhas\n",
    "- São 24 colunas, com variáves que contêm informações sobre as transações, dados dos titulares do cartão, do comério, etc. "
   ]
  },
  {
   "cell_type": "code",
   "execution_count": 28,
   "metadata": {},
   "outputs": [
    {
     "name": "stdout",
     "output_type": "stream",
     "text": [
      "<class 'pandas.core.frame.DataFrame'>\n",
      "RangeIndex: 1296675 entries, 0 to 1296674\n",
      "Data columns (total 24 columns):\n",
      " #   Column                 Non-Null Count    Dtype  \n",
      "---  ------                 --------------    -----  \n",
      " 0   Unnamed: 0             1296675 non-null  int64  \n",
      " 1   trans_date_trans_time  1296675 non-null  object \n",
      " 2   cc_num                 1296675 non-null  int64  \n",
      " 3   merchant               1296675 non-null  object \n",
      " 4   category               1296675 non-null  object \n",
      " 5   amt                    1296675 non-null  float64\n",
      " 6   first                  1296675 non-null  object \n",
      " 7   last                   1296675 non-null  object \n",
      " 8   gender                 1296675 non-null  object \n",
      " 9   street                 1296675 non-null  object \n",
      " 10  city                   1296675 non-null  object \n",
      " 11  state                  1296675 non-null  object \n",
      " 12  zip                    1296675 non-null  int64  \n",
      " 13  lat                    1296675 non-null  float64\n",
      " 14  long                   1296675 non-null  float64\n",
      " 15  city_pop               1296675 non-null  int64  \n",
      " 16  job                    1296675 non-null  object \n",
      " 17  dob                    1296675 non-null  object \n",
      " 18  trans_num              1296675 non-null  object \n",
      " 19  unix_time              1296675 non-null  int64  \n",
      " 20  merch_lat              1296675 non-null  float64\n",
      " 21  merch_long             1296675 non-null  float64\n",
      " 22  is_fraud               1296675 non-null  int64  \n",
      " 23  merch_zipcode          1100702 non-null  float64\n",
      "dtypes: float64(6), int64(6), object(12)\n",
      "memory usage: 237.4+ MB\n"
     ]
    }
   ],
   "source": [
    "cd.info()"
   ]
  },
  {
   "cell_type": "markdown",
   "metadata": {},
   "source": [
    "#### Tratamento dos dados"
   ]
  },
  {
   "cell_type": "markdown",
   "metadata": {},
   "source": [
    "- para facilitar a compreensão e o tratamento dos dados, vou iniciar por traduzir as colunas"
   ]
  },
  {
   "cell_type": "code",
   "execution_count": 29,
   "metadata": {},
   "outputs": [
    {
     "data": {
      "text/plain": [
       "Index(['Unnamed: 0', 'trans_date_trans_time', 'cc_num', 'merchant', 'category',\n",
       "       'amt', 'first', 'last', 'gender', 'street', 'city', 'state', 'zip',\n",
       "       'lat', 'long', 'city_pop', 'job', 'dob', 'trans_num', 'unix_time',\n",
       "       'merch_lat', 'merch_long', 'is_fraud', 'merch_zipcode'],\n",
       "      dtype='object')"
      ]
     },
     "execution_count": 29,
     "metadata": {},
     "output_type": "execute_result"
    }
   ],
   "source": [
    "cd.columns"
   ]
  },
  {
   "cell_type": "code",
   "execution_count": 30,
   "metadata": {},
   "outputs": [],
   "source": [
    "cd =cd.rename(columns={'Unnamed: 0' : 'id', \n",
    "                        'trans_date_trans_time' : 'data_hr_trans', \n",
    "                        'cc_num':'num_cartao', \n",
    "                        'merchant':'comercio', \n",
    "                        'category':'categoria',\n",
    "                        'amt': 'valor_trans', \n",
    "                        'first':'primeiro_nome', \n",
    "                        'last':'ultimo_nome', \n",
    "                        'gender':'genero', \n",
    "                        'street':'endereco', \n",
    "                        'city':'cidade', \n",
    "                        'state':'estado', \n",
    "                        'zip':'cep',\n",
    "                        'lat':'lat', \n",
    "                        'long':'long', \n",
    "                        'city_pop':'populacao_cidade', \n",
    "                        'job':'ocupacao_titular', \n",
    "                        'dob' :'data_nasc', \n",
    "                        'trans_num':'num_trans', \n",
    "                        'unix_time':'id_data_hr_trans',\n",
    "                        'merch_lat':'lat_comercio', \n",
    "                        'merch_long':'long_comercio', \n",
    "                        'is_fraud':'indicador_fraude', \n",
    "                        'merch_zipcode':'cep_comercio'})\n"
   ]
  },
  {
   "cell_type": "code",
   "execution_count": 31,
   "metadata": {},
   "outputs": [
    {
     "data": {
      "text/html": [
       "<div>\n",
       "<style scoped>\n",
       "    .dataframe tbody tr th:only-of-type {\n",
       "        vertical-align: middle;\n",
       "    }\n",
       "\n",
       "    .dataframe tbody tr th {\n",
       "        vertical-align: top;\n",
       "    }\n",
       "\n",
       "    .dataframe thead th {\n",
       "        text-align: right;\n",
       "    }\n",
       "</style>\n",
       "<table border=\"1\" class=\"dataframe\">\n",
       "  <thead>\n",
       "    <tr style=\"text-align: right;\">\n",
       "      <th></th>\n",
       "      <th>id</th>\n",
       "      <th>data_hr_trans</th>\n",
       "      <th>num_cartao</th>\n",
       "      <th>comercio</th>\n",
       "      <th>categoria</th>\n",
       "      <th>valor_trans</th>\n",
       "      <th>primeiro_nome</th>\n",
       "      <th>ultimo_nome</th>\n",
       "      <th>genero</th>\n",
       "      <th>endereco</th>\n",
       "      <th>...</th>\n",
       "      <th>long</th>\n",
       "      <th>populacao_cidade</th>\n",
       "      <th>ocupacao_titular</th>\n",
       "      <th>data_nasc</th>\n",
       "      <th>num_trans</th>\n",
       "      <th>id_data_hr_trans</th>\n",
       "      <th>lat_comercio</th>\n",
       "      <th>long_comercio</th>\n",
       "      <th>indicador_fraude</th>\n",
       "      <th>cep_comercio</th>\n",
       "    </tr>\n",
       "  </thead>\n",
       "  <tbody>\n",
       "    <tr>\n",
       "      <th>0</th>\n",
       "      <td>0</td>\n",
       "      <td>2019-01-01 00:00:18</td>\n",
       "      <td>2703186189652095</td>\n",
       "      <td>fraud_Rippin, Kub and Mann</td>\n",
       "      <td>misc_net</td>\n",
       "      <td>4.97</td>\n",
       "      <td>Jennifer</td>\n",
       "      <td>Banks</td>\n",
       "      <td>F</td>\n",
       "      <td>561 Perry Cove</td>\n",
       "      <td>...</td>\n",
       "      <td>-81.1781</td>\n",
       "      <td>3495</td>\n",
       "      <td>Psychologist, counselling</td>\n",
       "      <td>1988-03-09</td>\n",
       "      <td>0b242abb623afc578575680df30655b9</td>\n",
       "      <td>1325376018</td>\n",
       "      <td>36.011293</td>\n",
       "      <td>-82.048315</td>\n",
       "      <td>0</td>\n",
       "      <td>28705.0</td>\n",
       "    </tr>\n",
       "    <tr>\n",
       "      <th>1</th>\n",
       "      <td>1</td>\n",
       "      <td>2019-01-01 00:00:44</td>\n",
       "      <td>630423337322</td>\n",
       "      <td>fraud_Heller, Gutmann and Zieme</td>\n",
       "      <td>grocery_pos</td>\n",
       "      <td>107.23</td>\n",
       "      <td>Stephanie</td>\n",
       "      <td>Gill</td>\n",
       "      <td>F</td>\n",
       "      <td>43039 Riley Greens Suite 393</td>\n",
       "      <td>...</td>\n",
       "      <td>-118.2105</td>\n",
       "      <td>149</td>\n",
       "      <td>Special educational needs teacher</td>\n",
       "      <td>1978-06-21</td>\n",
       "      <td>1f76529f8574734946361c461b024d99</td>\n",
       "      <td>1325376044</td>\n",
       "      <td>49.159047</td>\n",
       "      <td>-118.186462</td>\n",
       "      <td>0</td>\n",
       "      <td>NaN</td>\n",
       "    </tr>\n",
       "    <tr>\n",
       "      <th>2</th>\n",
       "      <td>2</td>\n",
       "      <td>2019-01-01 00:00:51</td>\n",
       "      <td>38859492057661</td>\n",
       "      <td>fraud_Lind-Buckridge</td>\n",
       "      <td>entertainment</td>\n",
       "      <td>220.11</td>\n",
       "      <td>Edward</td>\n",
       "      <td>Sanchez</td>\n",
       "      <td>M</td>\n",
       "      <td>594 White Dale Suite 530</td>\n",
       "      <td>...</td>\n",
       "      <td>-112.2620</td>\n",
       "      <td>4154</td>\n",
       "      <td>Nature conservation officer</td>\n",
       "      <td>1962-01-19</td>\n",
       "      <td>a1a22d70485983eac12b5b88dad1cf95</td>\n",
       "      <td>1325376051</td>\n",
       "      <td>43.150704</td>\n",
       "      <td>-112.154481</td>\n",
       "      <td>0</td>\n",
       "      <td>83236.0</td>\n",
       "    </tr>\n",
       "    <tr>\n",
       "      <th>3</th>\n",
       "      <td>3</td>\n",
       "      <td>2019-01-01 00:01:16</td>\n",
       "      <td>3534093764340240</td>\n",
       "      <td>fraud_Kutch, Hermiston and Farrell</td>\n",
       "      <td>gas_transport</td>\n",
       "      <td>45.00</td>\n",
       "      <td>Jeremy</td>\n",
       "      <td>White</td>\n",
       "      <td>M</td>\n",
       "      <td>9443 Cynthia Court Apt. 038</td>\n",
       "      <td>...</td>\n",
       "      <td>-112.1138</td>\n",
       "      <td>1939</td>\n",
       "      <td>Patent attorney</td>\n",
       "      <td>1967-01-12</td>\n",
       "      <td>6b849c168bdad6f867558c3793159a81</td>\n",
       "      <td>1325376076</td>\n",
       "      <td>47.034331</td>\n",
       "      <td>-112.561071</td>\n",
       "      <td>0</td>\n",
       "      <td>NaN</td>\n",
       "    </tr>\n",
       "    <tr>\n",
       "      <th>4</th>\n",
       "      <td>4</td>\n",
       "      <td>2019-01-01 00:03:06</td>\n",
       "      <td>375534208663984</td>\n",
       "      <td>fraud_Keeling-Crist</td>\n",
       "      <td>misc_pos</td>\n",
       "      <td>41.96</td>\n",
       "      <td>Tyler</td>\n",
       "      <td>Garcia</td>\n",
       "      <td>M</td>\n",
       "      <td>408 Bradley Rest</td>\n",
       "      <td>...</td>\n",
       "      <td>-79.4629</td>\n",
       "      <td>99</td>\n",
       "      <td>Dance movement psychotherapist</td>\n",
       "      <td>1986-03-28</td>\n",
       "      <td>a41d7549acf90789359a9aa5346dcb46</td>\n",
       "      <td>1325376186</td>\n",
       "      <td>38.674999</td>\n",
       "      <td>-78.632459</td>\n",
       "      <td>0</td>\n",
       "      <td>22844.0</td>\n",
       "    </tr>\n",
       "  </tbody>\n",
       "</table>\n",
       "<p>5 rows × 24 columns</p>\n",
       "</div>"
      ],
      "text/plain": [
       "   id        data_hr_trans        num_cartao  \\\n",
       "0   0  2019-01-01 00:00:18  2703186189652095   \n",
       "1   1  2019-01-01 00:00:44      630423337322   \n",
       "2   2  2019-01-01 00:00:51    38859492057661   \n",
       "3   3  2019-01-01 00:01:16  3534093764340240   \n",
       "4   4  2019-01-01 00:03:06   375534208663984   \n",
       "\n",
       "                             comercio      categoria  valor_trans  \\\n",
       "0          fraud_Rippin, Kub and Mann       misc_net         4.97   \n",
       "1     fraud_Heller, Gutmann and Zieme    grocery_pos       107.23   \n",
       "2                fraud_Lind-Buckridge  entertainment       220.11   \n",
       "3  fraud_Kutch, Hermiston and Farrell  gas_transport        45.00   \n",
       "4                 fraud_Keeling-Crist       misc_pos        41.96   \n",
       "\n",
       "  primeiro_nome ultimo_nome genero                      endereco  ...  \\\n",
       "0      Jennifer       Banks      F                561 Perry Cove  ...   \n",
       "1     Stephanie        Gill      F  43039 Riley Greens Suite 393  ...   \n",
       "2        Edward     Sanchez      M      594 White Dale Suite 530  ...   \n",
       "3        Jeremy       White      M   9443 Cynthia Court Apt. 038  ...   \n",
       "4         Tyler      Garcia      M              408 Bradley Rest  ...   \n",
       "\n",
       "       long populacao_cidade                   ocupacao_titular   data_nasc  \\\n",
       "0  -81.1781             3495          Psychologist, counselling  1988-03-09   \n",
       "1 -118.2105              149  Special educational needs teacher  1978-06-21   \n",
       "2 -112.2620             4154        Nature conservation officer  1962-01-19   \n",
       "3 -112.1138             1939                    Patent attorney  1967-01-12   \n",
       "4  -79.4629               99     Dance movement psychotherapist  1986-03-28   \n",
       "\n",
       "                          num_trans  id_data_hr_trans lat_comercio  \\\n",
       "0  0b242abb623afc578575680df30655b9        1325376018    36.011293   \n",
       "1  1f76529f8574734946361c461b024d99        1325376044    49.159047   \n",
       "2  a1a22d70485983eac12b5b88dad1cf95        1325376051    43.150704   \n",
       "3  6b849c168bdad6f867558c3793159a81        1325376076    47.034331   \n",
       "4  a41d7549acf90789359a9aa5346dcb46        1325376186    38.674999   \n",
       "\n",
       "  long_comercio indicador_fraude  cep_comercio  \n",
       "0    -82.048315                0       28705.0  \n",
       "1   -118.186462                0           NaN  \n",
       "2   -112.154481                0       83236.0  \n",
       "3   -112.561071                0           NaN  \n",
       "4    -78.632459                0       22844.0  \n",
       "\n",
       "[5 rows x 24 columns]"
      ]
     },
     "execution_count": 31,
     "metadata": {},
     "output_type": "execute_result"
    }
   ],
   "source": [
    "cd.head()"
   ]
  },
  {
   "cell_type": "code",
   "execution_count": 32,
   "metadata": {},
   "outputs": [
    {
     "name": "stdout",
     "output_type": "stream",
     "text": [
      "<class 'pandas.core.frame.DataFrame'>\n",
      "RangeIndex: 1296675 entries, 0 to 1296674\n",
      "Data columns (total 24 columns):\n",
      " #   Column            Non-Null Count    Dtype  \n",
      "---  ------            --------------    -----  \n",
      " 0   id                1296675 non-null  int64  \n",
      " 1   data_hr_trans     1296675 non-null  object \n",
      " 2   num_cartao        1296675 non-null  int64  \n",
      " 3   comercio          1296675 non-null  object \n",
      " 4   categoria         1296675 non-null  object \n",
      " 5   valor_trans       1296675 non-null  float64\n",
      " 6   primeiro_nome     1296675 non-null  object \n",
      " 7   ultimo_nome       1296675 non-null  object \n",
      " 8   genero            1296675 non-null  object \n",
      " 9   endereco          1296675 non-null  object \n",
      " 10  cidade            1296675 non-null  object \n",
      " 11  estado            1296675 non-null  object \n",
      " 12  cep               1296675 non-null  int64  \n",
      " 13  lat               1296675 non-null  float64\n",
      " 14  long              1296675 non-null  float64\n",
      " 15  populacao_cidade  1296675 non-null  int64  \n",
      " 16  ocupacao_titular  1296675 non-null  object \n",
      " 17  data_nasc         1296675 non-null  object \n",
      " 18  num_trans         1296675 non-null  object \n",
      " 19  id_data_hr_trans  1296675 non-null  int64  \n",
      " 20  lat_comercio      1296675 non-null  float64\n",
      " 21  long_comercio     1296675 non-null  float64\n",
      " 22  indicador_fraude  1296675 non-null  int64  \n",
      " 23  cep_comercio      1100702 non-null  float64\n",
      "dtypes: float64(6), int64(6), object(12)\n",
      "memory usage: 237.4+ MB\n"
     ]
    }
   ],
   "source": [
    "cd.info()"
   ]
  },
  {
   "cell_type": "markdown",
   "metadata": {},
   "source": [
    "- Variáveis numéricas: id, num_cartao, valor_trans, cep, lat, long, populacao_cidade, id_data_hr_trans, lat_comercio, long_comercio, indicador_fraude, cep_comercio\n",
    "- Variáveis categóricas: data_hr_trans...\n",
    "\n",
    "Verifiquei que variáveis como id, num_cartao, cep, cep, lat, long,  id_data_hr_trans, lat_comercio, long_comercio, indicador_fraude, cep_comercio, identificadas pelo python como númericas deverão ser transformadas em categóricas a depender das análises "
   ]
  },
  {
   "cell_type": "markdown",
   "metadata": {},
   "source": [
    "VALORES AUSENTES - MISSING VALUES"
   ]
  },
  {
   "cell_type": "code",
   "execution_count": 33,
   "metadata": {},
   "outputs": [
    {
     "data": {
      "text/plain": [
       "id                       0\n",
       "data_hr_trans            0\n",
       "num_cartao               0\n",
       "comercio                 0\n",
       "categoria                0\n",
       "valor_trans              0\n",
       "primeiro_nome            0\n",
       "ultimo_nome              0\n",
       "genero                   0\n",
       "endereco                 0\n",
       "cidade                   0\n",
       "estado                   0\n",
       "cep                      0\n",
       "lat                      0\n",
       "long                     0\n",
       "populacao_cidade         0\n",
       "ocupacao_titular         0\n",
       "data_nasc                0\n",
       "num_trans                0\n",
       "id_data_hr_trans         0\n",
       "lat_comercio             0\n",
       "long_comercio            0\n",
       "indicador_fraude         0\n",
       "cep_comercio        195973\n",
       "dtype: int64"
      ]
     },
     "execution_count": 33,
     "metadata": {},
     "output_type": "execute_result"
    }
   ],
   "source": [
    "valores_aus = (cd.isna().sum()) \n",
    "valores_aus"
   ]
  },
  {
   "cell_type": "code",
   "execution_count": 34,
   "metadata": {},
   "outputs": [
    {
     "name": "stdout",
     "output_type": "stream",
     "text": [
      "cep_comercio    15.113502\n",
      "dtype: float64 %\n"
     ]
    }
   ],
   "source": [
    "valores_ausentes_perc = valores_aus[valores_aus>0]/cd.shape[0]\n",
    "print(f'{valores_ausentes_perc * 100} %')"
   ]
  },
  {
   "cell_type": "markdown",
   "metadata": {},
   "source": [
    "- A única variável que tem valores ausentes é o CEP (195.973 valores ausentes). O que não deve atrapalhar nas análises. "
   ]
  },
  {
   "cell_type": "markdown",
   "metadata": {},
   "source": [
    "VALORES DUPLICADOS "
   ]
  },
  {
   "cell_type": "code",
   "execution_count": 35,
   "metadata": {},
   "outputs": [
    {
     "data": {
      "text/plain": [
       "0"
      ]
     },
     "execution_count": 35,
     "metadata": {},
     "output_type": "execute_result"
    }
   ],
   "source": [
    "cd.duplicated().sum()"
   ]
  },
  {
   "cell_type": "markdown",
   "metadata": {},
   "source": [
    "- Nenhum valor duplicado foi identificado "
   ]
  },
  {
   "cell_type": "markdown",
   "metadata": {},
   "source": [
    "TRATANDO DADOS DATETIME\n",
    "- foi verificado que as váriáveis de data e hora estavam em formatos não adequados, por isso, decidi transforma-las em tipo datetime"
   ]
  },
  {
   "cell_type": "code",
   "execution_count": 36,
   "metadata": {},
   "outputs": [],
   "source": [
    "cd['data_hr_trans'] = pd.to_datetime(cd['data_hr_trans'], errors='coerce')\n",
    "cd['data_nasc'] = pd.to_datetime(cd['data_nasc'], errors='coerce')"
   ]
  },
  {
   "cell_type": "code",
   "execution_count": 37,
   "metadata": {},
   "outputs": [
    {
     "name": "stdout",
     "output_type": "stream",
     "text": [
      "<class 'pandas.core.frame.DataFrame'>\n",
      "RangeIndex: 1296675 entries, 0 to 1296674\n",
      "Data columns (total 24 columns):\n",
      " #   Column            Non-Null Count    Dtype         \n",
      "---  ------            --------------    -----         \n",
      " 0   id                1296675 non-null  int64         \n",
      " 1   data_hr_trans     1296675 non-null  datetime64[ns]\n",
      " 2   num_cartao        1296675 non-null  int64         \n",
      " 3   comercio          1296675 non-null  object        \n",
      " 4   categoria         1296675 non-null  object        \n",
      " 5   valor_trans       1296675 non-null  float64       \n",
      " 6   primeiro_nome     1296675 non-null  object        \n",
      " 7   ultimo_nome       1296675 non-null  object        \n",
      " 8   genero            1296675 non-null  object        \n",
      " 9   endereco          1296675 non-null  object        \n",
      " 10  cidade            1296675 non-null  object        \n",
      " 11  estado            1296675 non-null  object        \n",
      " 12  cep               1296675 non-null  int64         \n",
      " 13  lat               1296675 non-null  float64       \n",
      " 14  long              1296675 non-null  float64       \n",
      " 15  populacao_cidade  1296675 non-null  int64         \n",
      " 16  ocupacao_titular  1296675 non-null  object        \n",
      " 17  data_nasc         1296675 non-null  datetime64[ns]\n",
      " 18  num_trans         1296675 non-null  object        \n",
      " 19  id_data_hr_trans  1296675 non-null  int64         \n",
      " 20  lat_comercio      1296675 non-null  float64       \n",
      " 21  long_comercio     1296675 non-null  float64       \n",
      " 22  indicador_fraude  1296675 non-null  int64         \n",
      " 23  cep_comercio      1100702 non-null  float64       \n",
      "dtypes: datetime64[ns](2), float64(6), int64(6), object(10)\n",
      "memory usage: 237.4+ MB\n"
     ]
    }
   ],
   "source": [
    "cd.info()"
   ]
  },
  {
   "cell_type": "markdown",
   "metadata": {},
   "source": [
    "- me chamou a atenção a quantidade de transações no inicio em Janeiro, então decidi investigar"
   ]
  },
  {
   "cell_type": "code",
   "execution_count": 38,
   "metadata": {},
   "outputs": [],
   "source": [
    "cd['ano_trans'] = cd['data_hr_trans'].dt.year\n",
    "cd['mes_trans'] = cd['data_hr_trans'].dt.strftime('%m')\n",
    "cd['dia_trans'] = cd['data_hr_trans'].dt.strftime('%d')\n",
    "cd['dia_mes_trans'] = cd['mes_trans'] + '-' + cd['mes_trans']"
   ]
  },
  {
   "cell_type": "code",
   "execution_count": 39,
   "metadata": {},
   "outputs": [],
   "source": [
    "contagem = cd['dia_mes_trans'].value_counts()"
   ]
  },
  {
   "cell_type": "code",
   "execution_count": 40,
   "metadata": {},
   "outputs": [
    {
     "data": {
      "text/plain": [
       "<Axes: xlabel='dia_mes_trans'>"
      ]
     },
     "execution_count": 40,
     "metadata": {},
     "output_type": "execute_result"
    },
    {
     "data": {
      "image/png": "[encoded data removed]",
      "text/plain": [
       "<Figure size 800x400 with 1 Axes>"
      ]
     },
     "metadata": {},
     "output_type": "display_data"
    }
   ],
   "source": [
    "plt.figure(figsize=(8, 4))\n",
    "contagem.plot(kind='bar')"
   ]
  },
  {
   "cell_type": "markdown",
   "metadata": {},
   "source": [
    "- apesar de uma grande quantidade de transações no dia 1, ele não é o dia com mais transações "
   ]
  },
  {
   "cell_type": "markdown",
   "metadata": {},
   "source": [
    "Criando e analisando informações sobre idade"
   ]
  },
  {
   "cell_type": "code",
   "execution_count": 41,
   "metadata": {},
   "outputs": [
    {
     "data": {
      "text/plain": [
       "array([31, 41, 57, 52, 33, 58, 26, 72, 78, 45, 29, 53, 30, 74, 54, 67, 81,\n",
       "       73, 39, 48, 55, 42, 49, 35, 21, 32, 77, 47, 59, 65, 25, 43, 38, 93,\n",
       "       83, 22, 64, 36, 40, 19, 62, 37, 84, 44, 24, 92, 91, 69, 61, 68, 34,\n",
       "       18, 90, 56, 71, 51, 46, 60, 20, 16, 50, 88, 79, 85, 27, 80, 66, 63,\n",
       "       15, 14, 82, 86, 23, 75, 28, 70, 76, 89, 87, 95, 94, 96, 17])"
      ]
     },
     "execution_count": 41,
     "metadata": {},
     "output_type": "execute_result"
    }
   ],
   "source": [
    "cd['idade'] = cd['data_hr_trans'].dt.year - cd['data_nasc'].dt.year \n",
    "cd['idade'].unique()"
   ]
  },
  {
   "cell_type": "code",
   "execution_count": 42,
   "metadata": {},
   "outputs": [],
   "source": [
    "bins = [0,20,30,40,50,60,100]\n",
    "labels = ['0-20','20-30', '30-40', '40-50', '50-60', '60+']\n",
    "cd['faixa_id'] = pd.cut(x=cd['idade'], bins=bins, labels=labels, right=True)\n"
   ]
  },
  {
   "cell_type": "code",
   "execution_count": 47,
   "metadata": {},
   "outputs": [
    {
     "data": {
      "text/plain": [
       "<Axes: xlabel='count', ylabel='faixa_id'>"
      ]
     },
     "execution_count": 47,
     "metadata": {},
     "output_type": "execute_result"
    },
    {
     "data": {
      "image/png": "[encoded data removed]",
      "text/plain": [
       "<Figure size 2000x600 with 1 Axes>"
      ]
     },
     "metadata": {},
     "output_type": "display_data"
    }
   ],
   "source": [
    "plt.figure(figsize=(20,6))\n",
    "sea.countplot(cd, y='faixa_id', order = cd['faixa_id'].value_counts().index, hue ='genero')"
   ]
  },
  {
   "cell_type": "markdown",
   "metadata": {},
   "source": [
    "- a maior parte das transações foram realizadas por pessoas na faixa etária de 30 a 40 e 40 a 50\n",
    "- hommens entre 0 e 20 anos e 50 e 60 anos realizaram mais transações do que mulheres "
   ]
  },
  {
   "cell_type": "code",
   "execution_count": 45,
   "metadata": {},
   "outputs": [
    {
     "data": {
      "text/plain": [
       "<Axes: xlabel='categoria', ylabel='count'>"
      ]
     },
     "execution_count": 45,
     "metadata": {},
     "output_type": "execute_result"
    },
    {
     "data": {
      "image/png": "[encoded data removed]",
      "text/plain": [
       "<Figure size 2000x600 with 1 Axes>"
      ]
     },
     "metadata": {},
     "output_type": "display_data"
    }
   ],
   "source": [
    "plt.figure(figsize=(20,6))\n",
    "sea.countplot(cd, x='categoria', order=cd['categoria'].value_counts().index)"
   ]
  }
 ],
 "metadata": {
  "kernelspec": {
   "display_name": "base",
   "language": "python",
   "name": "python3"
  },
  "language_info": {
   "codemirror_mode": {
    "name": "ipython",
    "version": 3
   },
   "file_extension": ".py",
   "mimetype": "text/x-python",
   "name": "python",
   "nbconvert_exporter": "python",
   "pygments_lexer": "ipython3",
   "version": "3.11.5"
  }
 },
 "nbformat": 4,
 "nbformat_minor": 2
}
